{
  "cells": [
    {
      "cell_type": "markdown",
      "metadata": {
        "id": "view-in-github",
        "colab_type": "text"
      },
      "source": [
        "<a href=\"https://colab.research.google.com/github/SujithSajeev-17/Machine_Learning/blob/main/Keyloggers_Detection.ipynb\" target=\"_parent\"><img src=\"https://colab.research.google.com/assets/colab-badge.svg\" alt=\"Open In Colab\"/></a>"
      ]
    },
    {
      "cell_type": "markdown",
      "source": [
        "##**Data Preprocessing**"
      ],
      "metadata": {
        "id": "2oOreca-T6si"
      }
    },
    {
      "cell_type": "code",
      "execution_count": 1,
      "metadata": {
        "id": "yufJU7slaWSO"
      },
      "outputs": [],
      "source": [
        "import pandas as pd\n",
        "import numpy as np\n",
        "import matplotlib.pyplot as plt\n",
        "import seaborn as sns\n",
        "import dateutil.parser as dateutil\n",
        "import joblib,pickle\n",
        "from datetime import datetime\n",
        "from sklearn.model_selection import train_test_split,GridSearchCV\n",
        "from sklearn.preprocessing import StandardScaler,LabelEncoder\n",
        "from scipy.stats import uniform\n",
        "from sklearn.metrics import accuracy_score,confusion_matrix,classification_report,ConfusionMatrixDisplay"
      ]
    },
    {
      "cell_type": "code",
      "execution_count": 2,
      "metadata": {
        "id": "3F_Hmt_DrYfr"
      },
      "outputs": [],
      "source": [
        "# from google.colab import drive\n",
        "# drive.mount('/content/drive')"
      ]
    },
    {
      "cell_type": "code",
      "execution_count": 3,
      "metadata": {
        "colab": {
          "base_uri": "https://localhost:8080/"
        },
        "id": "0TPY8WQHaaTq",
        "outputId": "4684fcff-c666-41d2-a0c8-fe03be678817"
      },
      "outputs": [
        {
          "output_type": "stream",
          "name": "stderr",
          "text": [
            "<ipython-input-3-ac8810f2909d>:1: DtypeWarning: Columns (48,56) have mixed types. Specify dtype option on import or set low_memory=False.\n",
            "  df_raw= pd.read_csv('/content/drive/MyDrive/dataset/Keylogger_Detection.csv',encoding='UTF-8')\n"
          ]
        }
      ],
      "source": [
        "df_raw= pd.read_csv('/content/drive/MyDrive/dataset/Keylogger_Detection.csv',encoding='UTF-8')\n",
        "df = df_raw"
      ]
    },
    {
      "cell_type": "code",
      "execution_count": 4,
      "metadata": {
        "colab": {
          "base_uri": "https://localhost:8080/",
          "height": 463
        },
        "id": "J_bmlTy5ah-u",
        "outputId": "3fc9550c-c800-4c42-8be3-712d0f2ffc9a"
      },
      "outputs": [
        {
          "output_type": "execute_result",
          "data": {
            "text/plain": [
              "   Unnamed: 0                                  Flow ID     Source IP  \\\n",
              "0           0      10.42.0.211-52.6.25.230-34451-443-6   10.42.0.211   \n",
              "1           1     172.217.3.99-10.42.0.151-443-53892-6   10.42.0.151   \n",
              "2           2     172.217.3.98-10.42.0.151-443-50750-6  172.217.3.98   \n",
              "3           3        10.42.0.211-10.42.0.1-23025-53-17   10.42.0.211   \n",
              "4           4  10.42.0.211-123.129.244.226-52602-443-6   10.42.0.211   \n",
              "\n",
              "    Source Port   Destination IP   Destination Port   Protocol  \\\n",
              "0       34451.0      52.6.25.230              443.0        6.0   \n",
              "1       53892.0     172.217.3.99              443.0        6.0   \n",
              "2         443.0      10.42.0.151            50750.0        6.0   \n",
              "3       23025.0        10.42.0.1               53.0       17.0   \n",
              "4       52602.0  123.129.244.226              443.0        6.0   \n",
              "\n",
              "             Timestamp   Flow Duration   Total Fwd Packets  ...  \\\n",
              "0  04/08/2017 05:12:36      12140931.0                 9.0  ...   \n",
              "1  04/08/2017 07:55:51        418882.0               102.0  ...   \n",
              "2  04/08/2017 08:48:19            45.0                 2.0  ...   \n",
              "3  04/08/2017 05:54:10        541699.0                 1.0  ...   \n",
              "4  04/08/2017 08:44:25       7310795.0                 3.0  ...   \n",
              "\n",
              "    min_seg_size_forward  Active Mean   Active Std   Active Max   Active Min  \\\n",
              "0                   32.0          0.0          0.0          0.0          0.0   \n",
              "1                   32.0          0.0          0.0          0.0          0.0   \n",
              "2                   32.0          0.0          0.0          0.0          0.0   \n",
              "3                   32.0          0.0          0.0          0.0          0.0   \n",
              "4                   20.0          0.0          0.0          0.0          0.0   \n",
              "\n",
              "   Idle Mean   Idle Std   Idle Max   Idle Min   Class  \n",
              "0        0.0        0.0        0.0        0.0  Benign  \n",
              "1        0.0        0.0        0.0        0.0  Benign  \n",
              "2        0.0        0.0        0.0        0.0  Benign  \n",
              "3        0.0        0.0        0.0        0.0  Benign  \n",
              "4        0.0        0.0        0.0        0.0  Benign  \n",
              "\n",
              "[5 rows x 86 columns]"
            ],
            "text/html": [
              "\n",
              "  <div id=\"df-78ac7dfe-3c55-4c01-b718-ebd808d1766e\" class=\"colab-df-container\">\n",
              "    <div>\n",
              "<style scoped>\n",
              "    .dataframe tbody tr th:only-of-type {\n",
              "        vertical-align: middle;\n",
              "    }\n",
              "\n",
              "    .dataframe tbody tr th {\n",
              "        vertical-align: top;\n",
              "    }\n",
              "\n",
              "    .dataframe thead th {\n",
              "        text-align: right;\n",
              "    }\n",
              "</style>\n",
              "<table border=\"1\" class=\"dataframe\">\n",
              "  <thead>\n",
              "    <tr style=\"text-align: right;\">\n",
              "      <th></th>\n",
              "      <th>Unnamed: 0</th>\n",
              "      <th>Flow ID</th>\n",
              "      <th>Source IP</th>\n",
              "      <th>Source Port</th>\n",
              "      <th>Destination IP</th>\n",
              "      <th>Destination Port</th>\n",
              "      <th>Protocol</th>\n",
              "      <th>Timestamp</th>\n",
              "      <th>Flow Duration</th>\n",
              "      <th>Total Fwd Packets</th>\n",
              "      <th>...</th>\n",
              "      <th>min_seg_size_forward</th>\n",
              "      <th>Active Mean</th>\n",
              "      <th>Active Std</th>\n",
              "      <th>Active Max</th>\n",
              "      <th>Active Min</th>\n",
              "      <th>Idle Mean</th>\n",
              "      <th>Idle Std</th>\n",
              "      <th>Idle Max</th>\n",
              "      <th>Idle Min</th>\n",
              "      <th>Class</th>\n",
              "    </tr>\n",
              "  </thead>\n",
              "  <tbody>\n",
              "    <tr>\n",
              "      <th>0</th>\n",
              "      <td>0</td>\n",
              "      <td>10.42.0.211-52.6.25.230-34451-443-6</td>\n",
              "      <td>10.42.0.211</td>\n",
              "      <td>34451.0</td>\n",
              "      <td>52.6.25.230</td>\n",
              "      <td>443.0</td>\n",
              "      <td>6.0</td>\n",
              "      <td>04/08/2017 05:12:36</td>\n",
              "      <td>12140931.0</td>\n",
              "      <td>9.0</td>\n",
              "      <td>...</td>\n",
              "      <td>32.0</td>\n",
              "      <td>0.0</td>\n",
              "      <td>0.0</td>\n",
              "      <td>0.0</td>\n",
              "      <td>0.0</td>\n",
              "      <td>0.0</td>\n",
              "      <td>0.0</td>\n",
              "      <td>0.0</td>\n",
              "      <td>0.0</td>\n",
              "      <td>Benign</td>\n",
              "    </tr>\n",
              "    <tr>\n",
              "      <th>1</th>\n",
              "      <td>1</td>\n",
              "      <td>172.217.3.99-10.42.0.151-443-53892-6</td>\n",
              "      <td>10.42.0.151</td>\n",
              "      <td>53892.0</td>\n",
              "      <td>172.217.3.99</td>\n",
              "      <td>443.0</td>\n",
              "      <td>6.0</td>\n",
              "      <td>04/08/2017 07:55:51</td>\n",
              "      <td>418882.0</td>\n",
              "      <td>102.0</td>\n",
              "      <td>...</td>\n",
              "      <td>32.0</td>\n",
              "      <td>0.0</td>\n",
              "      <td>0.0</td>\n",
              "      <td>0.0</td>\n",
              "      <td>0.0</td>\n",
              "      <td>0.0</td>\n",
              "      <td>0.0</td>\n",
              "      <td>0.0</td>\n",
              "      <td>0.0</td>\n",
              "      <td>Benign</td>\n",
              "    </tr>\n",
              "    <tr>\n",
              "      <th>2</th>\n",
              "      <td>2</td>\n",
              "      <td>172.217.3.98-10.42.0.151-443-50750-6</td>\n",
              "      <td>172.217.3.98</td>\n",
              "      <td>443.0</td>\n",
              "      <td>10.42.0.151</td>\n",
              "      <td>50750.0</td>\n",
              "      <td>6.0</td>\n",
              "      <td>04/08/2017 08:48:19</td>\n",
              "      <td>45.0</td>\n",
              "      <td>2.0</td>\n",
              "      <td>...</td>\n",
              "      <td>32.0</td>\n",
              "      <td>0.0</td>\n",
              "      <td>0.0</td>\n",
              "      <td>0.0</td>\n",
              "      <td>0.0</td>\n",
              "      <td>0.0</td>\n",
              "      <td>0.0</td>\n",
              "      <td>0.0</td>\n",
              "      <td>0.0</td>\n",
              "      <td>Benign</td>\n",
              "    </tr>\n",
              "    <tr>\n",
              "      <th>3</th>\n",
              "      <td>3</td>\n",
              "      <td>10.42.0.211-10.42.0.1-23025-53-17</td>\n",
              "      <td>10.42.0.211</td>\n",
              "      <td>23025.0</td>\n",
              "      <td>10.42.0.1</td>\n",
              "      <td>53.0</td>\n",
              "      <td>17.0</td>\n",
              "      <td>04/08/2017 05:54:10</td>\n",
              "      <td>541699.0</td>\n",
              "      <td>1.0</td>\n",
              "      <td>...</td>\n",
              "      <td>32.0</td>\n",
              "      <td>0.0</td>\n",
              "      <td>0.0</td>\n",
              "      <td>0.0</td>\n",
              "      <td>0.0</td>\n",
              "      <td>0.0</td>\n",
              "      <td>0.0</td>\n",
              "      <td>0.0</td>\n",
              "      <td>0.0</td>\n",
              "      <td>Benign</td>\n",
              "    </tr>\n",
              "    <tr>\n",
              "      <th>4</th>\n",
              "      <td>4</td>\n",
              "      <td>10.42.0.211-123.129.244.226-52602-443-6</td>\n",
              "      <td>10.42.0.211</td>\n",
              "      <td>52602.0</td>\n",
              "      <td>123.129.244.226</td>\n",
              "      <td>443.0</td>\n",
              "      <td>6.0</td>\n",
              "      <td>04/08/2017 08:44:25</td>\n",
              "      <td>7310795.0</td>\n",
              "      <td>3.0</td>\n",
              "      <td>...</td>\n",
              "      <td>20.0</td>\n",
              "      <td>0.0</td>\n",
              "      <td>0.0</td>\n",
              "      <td>0.0</td>\n",
              "      <td>0.0</td>\n",
              "      <td>0.0</td>\n",
              "      <td>0.0</td>\n",
              "      <td>0.0</td>\n",
              "      <td>0.0</td>\n",
              "      <td>Benign</td>\n",
              "    </tr>\n",
              "  </tbody>\n",
              "</table>\n",
              "<p>5 rows × 86 columns</p>\n",
              "</div>\n",
              "    <div class=\"colab-df-buttons\">\n",
              "\n",
              "  <div class=\"colab-df-container\">\n",
              "    <button class=\"colab-df-convert\" onclick=\"convertToInteractive('df-78ac7dfe-3c55-4c01-b718-ebd808d1766e')\"\n",
              "            title=\"Convert this dataframe to an interactive table.\"\n",
              "            style=\"display:none;\">\n",
              "\n",
              "  <svg xmlns=\"http://www.w3.org/2000/svg\" height=\"24px\" viewBox=\"0 -960 960 960\">\n",
              "    <path d=\"M120-120v-720h720v720H120Zm60-500h600v-160H180v160Zm220 220h160v-160H400v160Zm0 220h160v-160H400v160ZM180-400h160v-160H180v160Zm440 0h160v-160H620v160ZM180-180h160v-160H180v160Zm440 0h160v-160H620v160Z\"/>\n",
              "  </svg>\n",
              "    </button>\n",
              "\n",
              "  <style>\n",
              "    .colab-df-container {\n",
              "      display:flex;\n",
              "      gap: 12px;\n",
              "    }\n",
              "\n",
              "    .colab-df-convert {\n",
              "      background-color: #E8F0FE;\n",
              "      border: none;\n",
              "      border-radius: 50%;\n",
              "      cursor: pointer;\n",
              "      display: none;\n",
              "      fill: #1967D2;\n",
              "      height: 32px;\n",
              "      padding: 0 0 0 0;\n",
              "      width: 32px;\n",
              "    }\n",
              "\n",
              "    .colab-df-convert:hover {\n",
              "      background-color: #E2EBFA;\n",
              "      box-shadow: 0px 1px 2px rgba(60, 64, 67, 0.3), 0px 1px 3px 1px rgba(60, 64, 67, 0.15);\n",
              "      fill: #174EA6;\n",
              "    }\n",
              "\n",
              "    .colab-df-buttons div {\n",
              "      margin-bottom: 4px;\n",
              "    }\n",
              "\n",
              "    [theme=dark] .colab-df-convert {\n",
              "      background-color: #3B4455;\n",
              "      fill: #D2E3FC;\n",
              "    }\n",
              "\n",
              "    [theme=dark] .colab-df-convert:hover {\n",
              "      background-color: #434B5C;\n",
              "      box-shadow: 0px 1px 3px 1px rgba(0, 0, 0, 0.15);\n",
              "      filter: drop-shadow(0px 1px 2px rgba(0, 0, 0, 0.3));\n",
              "      fill: #FFFFFF;\n",
              "    }\n",
              "  </style>\n",
              "\n",
              "    <script>\n",
              "      const buttonEl =\n",
              "        document.querySelector('#df-78ac7dfe-3c55-4c01-b718-ebd808d1766e button.colab-df-convert');\n",
              "      buttonEl.style.display =\n",
              "        google.colab.kernel.accessAllowed ? 'block' : 'none';\n",
              "\n",
              "      async function convertToInteractive(key) {\n",
              "        const element = document.querySelector('#df-78ac7dfe-3c55-4c01-b718-ebd808d1766e');\n",
              "        const dataTable =\n",
              "          await google.colab.kernel.invokeFunction('convertToInteractive',\n",
              "                                                    [key], {});\n",
              "        if (!dataTable) return;\n",
              "\n",
              "        const docLinkHtml = 'Like what you see? Visit the ' +\n",
              "          '<a target=\"_blank\" href=https://colab.research.google.com/notebooks/data_table.ipynb>data table notebook</a>'\n",
              "          + ' to learn more about interactive tables.';\n",
              "        element.innerHTML = '';\n",
              "        dataTable['output_type'] = 'display_data';\n",
              "        await google.colab.output.renderOutput(dataTable, element);\n",
              "        const docLink = document.createElement('div');\n",
              "        docLink.innerHTML = docLinkHtml;\n",
              "        element.appendChild(docLink);\n",
              "      }\n",
              "    </script>\n",
              "  </div>\n",
              "\n",
              "\n",
              "<div id=\"df-a4a79aa4-dd5b-45bf-98c9-6a39f237a108\">\n",
              "  <button class=\"colab-df-quickchart\" onclick=\"quickchart('df-a4a79aa4-dd5b-45bf-98c9-6a39f237a108')\"\n",
              "            title=\"Suggest charts\"\n",
              "            style=\"display:none;\">\n",
              "\n",
              "<svg xmlns=\"http://www.w3.org/2000/svg\" height=\"24px\"viewBox=\"0 0 24 24\"\n",
              "     width=\"24px\">\n",
              "    <g>\n",
              "        <path d=\"M19 3H5c-1.1 0-2 .9-2 2v14c0 1.1.9 2 2 2h14c1.1 0 2-.9 2-2V5c0-1.1-.9-2-2-2zM9 17H7v-7h2v7zm4 0h-2V7h2v10zm4 0h-2v-4h2v4z\"/>\n",
              "    </g>\n",
              "</svg>\n",
              "  </button>\n",
              "\n",
              "<style>\n",
              "  .colab-df-quickchart {\n",
              "      --bg-color: #E8F0FE;\n",
              "      --fill-color: #1967D2;\n",
              "      --hover-bg-color: #E2EBFA;\n",
              "      --hover-fill-color: #174EA6;\n",
              "      --disabled-fill-color: #AAA;\n",
              "      --disabled-bg-color: #DDD;\n",
              "  }\n",
              "\n",
              "  [theme=dark] .colab-df-quickchart {\n",
              "      --bg-color: #3B4455;\n",
              "      --fill-color: #D2E3FC;\n",
              "      --hover-bg-color: #434B5C;\n",
              "      --hover-fill-color: #FFFFFF;\n",
              "      --disabled-bg-color: #3B4455;\n",
              "      --disabled-fill-color: #666;\n",
              "  }\n",
              "\n",
              "  .colab-df-quickchart {\n",
              "    background-color: var(--bg-color);\n",
              "    border: none;\n",
              "    border-radius: 50%;\n",
              "    cursor: pointer;\n",
              "    display: none;\n",
              "    fill: var(--fill-color);\n",
              "    height: 32px;\n",
              "    padding: 0;\n",
              "    width: 32px;\n",
              "  }\n",
              "\n",
              "  .colab-df-quickchart:hover {\n",
              "    background-color: var(--hover-bg-color);\n",
              "    box-shadow: 0 1px 2px rgba(60, 64, 67, 0.3), 0 1px 3px 1px rgba(60, 64, 67, 0.15);\n",
              "    fill: var(--button-hover-fill-color);\n",
              "  }\n",
              "\n",
              "  .colab-df-quickchart-complete:disabled,\n",
              "  .colab-df-quickchart-complete:disabled:hover {\n",
              "    background-color: var(--disabled-bg-color);\n",
              "    fill: var(--disabled-fill-color);\n",
              "    box-shadow: none;\n",
              "  }\n",
              "\n",
              "  .colab-df-spinner {\n",
              "    border: 2px solid var(--fill-color);\n",
              "    border-color: transparent;\n",
              "    border-bottom-color: var(--fill-color);\n",
              "    animation:\n",
              "      spin 1s steps(1) infinite;\n",
              "  }\n",
              "\n",
              "  @keyframes spin {\n",
              "    0% {\n",
              "      border-color: transparent;\n",
              "      border-bottom-color: var(--fill-color);\n",
              "      border-left-color: var(--fill-color);\n",
              "    }\n",
              "    20% {\n",
              "      border-color: transparent;\n",
              "      border-left-color: var(--fill-color);\n",
              "      border-top-color: var(--fill-color);\n",
              "    }\n",
              "    30% {\n",
              "      border-color: transparent;\n",
              "      border-left-color: var(--fill-color);\n",
              "      border-top-color: var(--fill-color);\n",
              "      border-right-color: var(--fill-color);\n",
              "    }\n",
              "    40% {\n",
              "      border-color: transparent;\n",
              "      border-right-color: var(--fill-color);\n",
              "      border-top-color: var(--fill-color);\n",
              "    }\n",
              "    60% {\n",
              "      border-color: transparent;\n",
              "      border-right-color: var(--fill-color);\n",
              "    }\n",
              "    80% {\n",
              "      border-color: transparent;\n",
              "      border-right-color: var(--fill-color);\n",
              "      border-bottom-color: var(--fill-color);\n",
              "    }\n",
              "    90% {\n",
              "      border-color: transparent;\n",
              "      border-bottom-color: var(--fill-color);\n",
              "    }\n",
              "  }\n",
              "</style>\n",
              "\n",
              "  <script>\n",
              "    async function quickchart(key) {\n",
              "      const quickchartButtonEl =\n",
              "        document.querySelector('#' + key + ' button');\n",
              "      quickchartButtonEl.disabled = true;  // To prevent multiple clicks.\n",
              "      quickchartButtonEl.classList.add('colab-df-spinner');\n",
              "      try {\n",
              "        const charts = await google.colab.kernel.invokeFunction(\n",
              "            'suggestCharts', [key], {});\n",
              "      } catch (error) {\n",
              "        console.error('Error during call to suggestCharts:', error);\n",
              "      }\n",
              "      quickchartButtonEl.classList.remove('colab-df-spinner');\n",
              "      quickchartButtonEl.classList.add('colab-df-quickchart-complete');\n",
              "    }\n",
              "    (() => {\n",
              "      let quickchartButtonEl =\n",
              "        document.querySelector('#df-a4a79aa4-dd5b-45bf-98c9-6a39f237a108 button');\n",
              "      quickchartButtonEl.style.display =\n",
              "        google.colab.kernel.accessAllowed ? 'block' : 'none';\n",
              "    })();\n",
              "  </script>\n",
              "</div>\n",
              "\n",
              "    </div>\n",
              "  </div>\n"
            ],
            "application/vnd.google.colaboratory.intrinsic+json": {
              "type": "dataframe",
              "variable_name": "df"
            }
          },
          "metadata": {},
          "execution_count": 4
        }
      ],
      "source": [
        "df.head()"
      ]
    },
    {
      "cell_type": "code",
      "execution_count": 5,
      "metadata": {
        "colab": {
          "base_uri": "https://localhost:8080/",
          "height": 463
        },
        "id": "S0-WNa9Qal06",
        "outputId": "b15c1a10-c67e-4569-e82b-c1a534e5cc6a"
      },
      "outputs": [
        {
          "output_type": "execute_result",
          "data": {
            "text/plain": [
              "        Unnamed: 0                                 Flow ID      Source IP  \\\n",
              "523612      523612    10.42.0.151-106.39.169.66-52373-80-6    10.42.0.151   \n",
              "523613      523613        10.42.0.211-10.42.0.1-2522-53-17    10.42.0.211   \n",
              "523614      523614   220.243.219.55-10.42.0.211-80-60995-6    10.42.0.211   \n",
              "523615      523615  172.217.12.138-10.42.0.211-443-52724-6    10.42.0.211   \n",
              "523616      523616   10.42.0.211-119.146.74.33-47669-443-6  119.146.74.33   \n",
              "\n",
              "         Source Port  Destination IP   Destination Port   Protocol  \\\n",
              "523612       52373.0   106.39.169.66               80.0        6.0   \n",
              "523613        2522.0       10.42.0.1               53.0       17.0   \n",
              "523614       60995.0  220.243.219.55               80.0        6.0   \n",
              "523615       52724.0  172.217.12.138              443.0        6.0   \n",
              "523616         443.0     10.42.0.211            47669.0        6.0   \n",
              "\n",
              "                  Timestamp   Flow Duration   Total Fwd Packets  ...  \\\n",
              "523612  30/06/2017 01:22:05        589453.0                 5.0  ...   \n",
              "523613  04/08/2017 12:40:03        216310.0                 1.0  ...   \n",
              "523614  04/08/2017 09:39:08       5215688.0                 2.0  ...   \n",
              "523615  04/08/2017 01:41:22        223370.0                16.0  ...   \n",
              "523616  11/07/2017 10:14:50      46579450.0                 1.0  ...   \n",
              "\n",
              "         min_seg_size_forward  Active Mean   Active Std   Active Max  \\\n",
              "523612                   20.0          0.0          0.0          0.0   \n",
              "523613                   32.0          0.0          0.0          0.0   \n",
              "523614                   20.0          0.0          0.0          0.0   \n",
              "523615                   32.0          0.0          0.0          0.0   \n",
              "523616                   20.0          0.0          0.0          0.0   \n",
              "\n",
              "         Active Min  Idle Mean   Idle Std   Idle Max   Idle Min      Class  \n",
              "523612          0.0        0.0        0.0        0.0        0.0  Keylogger  \n",
              "523613          0.0        0.0        0.0        0.0        0.0     Benign  \n",
              "523614          0.0        0.0        0.0        0.0        0.0     Benign  \n",
              "523615          0.0        0.0        0.0        0.0        0.0     Benign  \n",
              "523616          0.0        0.0        0.0        0.0        0.0  Keylogger  \n",
              "\n",
              "[5 rows x 86 columns]"
            ],
            "text/html": [
              "\n",
              "  <div id=\"df-8da63883-2be2-4242-a7eb-fb6a8ff4e6e9\" class=\"colab-df-container\">\n",
              "    <div>\n",
              "<style scoped>\n",
              "    .dataframe tbody tr th:only-of-type {\n",
              "        vertical-align: middle;\n",
              "    }\n",
              "\n",
              "    .dataframe tbody tr th {\n",
              "        vertical-align: top;\n",
              "    }\n",
              "\n",
              "    .dataframe thead th {\n",
              "        text-align: right;\n",
              "    }\n",
              "</style>\n",
              "<table border=\"1\" class=\"dataframe\">\n",
              "  <thead>\n",
              "    <tr style=\"text-align: right;\">\n",
              "      <th></th>\n",
              "      <th>Unnamed: 0</th>\n",
              "      <th>Flow ID</th>\n",
              "      <th>Source IP</th>\n",
              "      <th>Source Port</th>\n",
              "      <th>Destination IP</th>\n",
              "      <th>Destination Port</th>\n",
              "      <th>Protocol</th>\n",
              "      <th>Timestamp</th>\n",
              "      <th>Flow Duration</th>\n",
              "      <th>Total Fwd Packets</th>\n",
              "      <th>...</th>\n",
              "      <th>min_seg_size_forward</th>\n",
              "      <th>Active Mean</th>\n",
              "      <th>Active Std</th>\n",
              "      <th>Active Max</th>\n",
              "      <th>Active Min</th>\n",
              "      <th>Idle Mean</th>\n",
              "      <th>Idle Std</th>\n",
              "      <th>Idle Max</th>\n",
              "      <th>Idle Min</th>\n",
              "      <th>Class</th>\n",
              "    </tr>\n",
              "  </thead>\n",
              "  <tbody>\n",
              "    <tr>\n",
              "      <th>523612</th>\n",
              "      <td>523612</td>\n",
              "      <td>10.42.0.151-106.39.169.66-52373-80-6</td>\n",
              "      <td>10.42.0.151</td>\n",
              "      <td>52373.0</td>\n",
              "      <td>106.39.169.66</td>\n",
              "      <td>80.0</td>\n",
              "      <td>6.0</td>\n",
              "      <td>30/06/2017 01:22:05</td>\n",
              "      <td>589453.0</td>\n",
              "      <td>5.0</td>\n",
              "      <td>...</td>\n",
              "      <td>20.0</td>\n",
              "      <td>0.0</td>\n",
              "      <td>0.0</td>\n",
              "      <td>0.0</td>\n",
              "      <td>0.0</td>\n",
              "      <td>0.0</td>\n",
              "      <td>0.0</td>\n",
              "      <td>0.0</td>\n",
              "      <td>0.0</td>\n",
              "      <td>Keylogger</td>\n",
              "    </tr>\n",
              "    <tr>\n",
              "      <th>523613</th>\n",
              "      <td>523613</td>\n",
              "      <td>10.42.0.211-10.42.0.1-2522-53-17</td>\n",
              "      <td>10.42.0.211</td>\n",
              "      <td>2522.0</td>\n",
              "      <td>10.42.0.1</td>\n",
              "      <td>53.0</td>\n",
              "      <td>17.0</td>\n",
              "      <td>04/08/2017 12:40:03</td>\n",
              "      <td>216310.0</td>\n",
              "      <td>1.0</td>\n",
              "      <td>...</td>\n",
              "      <td>32.0</td>\n",
              "      <td>0.0</td>\n",
              "      <td>0.0</td>\n",
              "      <td>0.0</td>\n",
              "      <td>0.0</td>\n",
              "      <td>0.0</td>\n",
              "      <td>0.0</td>\n",
              "      <td>0.0</td>\n",
              "      <td>0.0</td>\n",
              "      <td>Benign</td>\n",
              "    </tr>\n",
              "    <tr>\n",
              "      <th>523614</th>\n",
              "      <td>523614</td>\n",
              "      <td>220.243.219.55-10.42.0.211-80-60995-6</td>\n",
              "      <td>10.42.0.211</td>\n",
              "      <td>60995.0</td>\n",
              "      <td>220.243.219.55</td>\n",
              "      <td>80.0</td>\n",
              "      <td>6.0</td>\n",
              "      <td>04/08/2017 09:39:08</td>\n",
              "      <td>5215688.0</td>\n",
              "      <td>2.0</td>\n",
              "      <td>...</td>\n",
              "      <td>20.0</td>\n",
              "      <td>0.0</td>\n",
              "      <td>0.0</td>\n",
              "      <td>0.0</td>\n",
              "      <td>0.0</td>\n",
              "      <td>0.0</td>\n",
              "      <td>0.0</td>\n",
              "      <td>0.0</td>\n",
              "      <td>0.0</td>\n",
              "      <td>Benign</td>\n",
              "    </tr>\n",
              "    <tr>\n",
              "      <th>523615</th>\n",
              "      <td>523615</td>\n",
              "      <td>172.217.12.138-10.42.0.211-443-52724-6</td>\n",
              "      <td>10.42.0.211</td>\n",
              "      <td>52724.0</td>\n",
              "      <td>172.217.12.138</td>\n",
              "      <td>443.0</td>\n",
              "      <td>6.0</td>\n",
              "      <td>04/08/2017 01:41:22</td>\n",
              "      <td>223370.0</td>\n",
              "      <td>16.0</td>\n",
              "      <td>...</td>\n",
              "      <td>32.0</td>\n",
              "      <td>0.0</td>\n",
              "      <td>0.0</td>\n",
              "      <td>0.0</td>\n",
              "      <td>0.0</td>\n",
              "      <td>0.0</td>\n",
              "      <td>0.0</td>\n",
              "      <td>0.0</td>\n",
              "      <td>0.0</td>\n",
              "      <td>Benign</td>\n",
              "    </tr>\n",
              "    <tr>\n",
              "      <th>523616</th>\n",
              "      <td>523616</td>\n",
              "      <td>10.42.0.211-119.146.74.33-47669-443-6</td>\n",
              "      <td>119.146.74.33</td>\n",
              "      <td>443.0</td>\n",
              "      <td>10.42.0.211</td>\n",
              "      <td>47669.0</td>\n",
              "      <td>6.0</td>\n",
              "      <td>11/07/2017 10:14:50</td>\n",
              "      <td>46579450.0</td>\n",
              "      <td>1.0</td>\n",
              "      <td>...</td>\n",
              "      <td>20.0</td>\n",
              "      <td>0.0</td>\n",
              "      <td>0.0</td>\n",
              "      <td>0.0</td>\n",
              "      <td>0.0</td>\n",
              "      <td>0.0</td>\n",
              "      <td>0.0</td>\n",
              "      <td>0.0</td>\n",
              "      <td>0.0</td>\n",
              "      <td>Keylogger</td>\n",
              "    </tr>\n",
              "  </tbody>\n",
              "</table>\n",
              "<p>5 rows × 86 columns</p>\n",
              "</div>\n",
              "    <div class=\"colab-df-buttons\">\n",
              "\n",
              "  <div class=\"colab-df-container\">\n",
              "    <button class=\"colab-df-convert\" onclick=\"convertToInteractive('df-8da63883-2be2-4242-a7eb-fb6a8ff4e6e9')\"\n",
              "            title=\"Convert this dataframe to an interactive table.\"\n",
              "            style=\"display:none;\">\n",
              "\n",
              "  <svg xmlns=\"http://www.w3.org/2000/svg\" height=\"24px\" viewBox=\"0 -960 960 960\">\n",
              "    <path d=\"M120-120v-720h720v720H120Zm60-500h600v-160H180v160Zm220 220h160v-160H400v160Zm0 220h160v-160H400v160ZM180-400h160v-160H180v160Zm440 0h160v-160H620v160ZM180-180h160v-160H180v160Zm440 0h160v-160H620v160Z\"/>\n",
              "  </svg>\n",
              "    </button>\n",
              "\n",
              "  <style>\n",
              "    .colab-df-container {\n",
              "      display:flex;\n",
              "      gap: 12px;\n",
              "    }\n",
              "\n",
              "    .colab-df-convert {\n",
              "      background-color: #E8F0FE;\n",
              "      border: none;\n",
              "      border-radius: 50%;\n",
              "      cursor: pointer;\n",
              "      display: none;\n",
              "      fill: #1967D2;\n",
              "      height: 32px;\n",
              "      padding: 0 0 0 0;\n",
              "      width: 32px;\n",
              "    }\n",
              "\n",
              "    .colab-df-convert:hover {\n",
              "      background-color: #E2EBFA;\n",
              "      box-shadow: 0px 1px 2px rgba(60, 64, 67, 0.3), 0px 1px 3px 1px rgba(60, 64, 67, 0.15);\n",
              "      fill: #174EA6;\n",
              "    }\n",
              "\n",
              "    .colab-df-buttons div {\n",
              "      margin-bottom: 4px;\n",
              "    }\n",
              "\n",
              "    [theme=dark] .colab-df-convert {\n",
              "      background-color: #3B4455;\n",
              "      fill: #D2E3FC;\n",
              "    }\n",
              "\n",
              "    [theme=dark] .colab-df-convert:hover {\n",
              "      background-color: #434B5C;\n",
              "      box-shadow: 0px 1px 3px 1px rgba(0, 0, 0, 0.15);\n",
              "      filter: drop-shadow(0px 1px 2px rgba(0, 0, 0, 0.3));\n",
              "      fill: #FFFFFF;\n",
              "    }\n",
              "  </style>\n",
              "\n",
              "    <script>\n",
              "      const buttonEl =\n",
              "        document.querySelector('#df-8da63883-2be2-4242-a7eb-fb6a8ff4e6e9 button.colab-df-convert');\n",
              "      buttonEl.style.display =\n",
              "        google.colab.kernel.accessAllowed ? 'block' : 'none';\n",
              "\n",
              "      async function convertToInteractive(key) {\n",
              "        const element = document.querySelector('#df-8da63883-2be2-4242-a7eb-fb6a8ff4e6e9');\n",
              "        const dataTable =\n",
              "          await google.colab.kernel.invokeFunction('convertToInteractive',\n",
              "                                                    [key], {});\n",
              "        if (!dataTable) return;\n",
              "\n",
              "        const docLinkHtml = 'Like what you see? Visit the ' +\n",
              "          '<a target=\"_blank\" href=https://colab.research.google.com/notebooks/data_table.ipynb>data table notebook</a>'\n",
              "          + ' to learn more about interactive tables.';\n",
              "        element.innerHTML = '';\n",
              "        dataTable['output_type'] = 'display_data';\n",
              "        await google.colab.output.renderOutput(dataTable, element);\n",
              "        const docLink = document.createElement('div');\n",
              "        docLink.innerHTML = docLinkHtml;\n",
              "        element.appendChild(docLink);\n",
              "      }\n",
              "    </script>\n",
              "  </div>\n",
              "\n",
              "\n",
              "<div id=\"df-f3828e75-e0cf-4b67-8c99-33d8f6034ab1\">\n",
              "  <button class=\"colab-df-quickchart\" onclick=\"quickchart('df-f3828e75-e0cf-4b67-8c99-33d8f6034ab1')\"\n",
              "            title=\"Suggest charts\"\n",
              "            style=\"display:none;\">\n",
              "\n",
              "<svg xmlns=\"http://www.w3.org/2000/svg\" height=\"24px\"viewBox=\"0 0 24 24\"\n",
              "     width=\"24px\">\n",
              "    <g>\n",
              "        <path d=\"M19 3H5c-1.1 0-2 .9-2 2v14c0 1.1.9 2 2 2h14c1.1 0 2-.9 2-2V5c0-1.1-.9-2-2-2zM9 17H7v-7h2v7zm4 0h-2V7h2v10zm4 0h-2v-4h2v4z\"/>\n",
              "    </g>\n",
              "</svg>\n",
              "  </button>\n",
              "\n",
              "<style>\n",
              "  .colab-df-quickchart {\n",
              "      --bg-color: #E8F0FE;\n",
              "      --fill-color: #1967D2;\n",
              "      --hover-bg-color: #E2EBFA;\n",
              "      --hover-fill-color: #174EA6;\n",
              "      --disabled-fill-color: #AAA;\n",
              "      --disabled-bg-color: #DDD;\n",
              "  }\n",
              "\n",
              "  [theme=dark] .colab-df-quickchart {\n",
              "      --bg-color: #3B4455;\n",
              "      --fill-color: #D2E3FC;\n",
              "      --hover-bg-color: #434B5C;\n",
              "      --hover-fill-color: #FFFFFF;\n",
              "      --disabled-bg-color: #3B4455;\n",
              "      --disabled-fill-color: #666;\n",
              "  }\n",
              "\n",
              "  .colab-df-quickchart {\n",
              "    background-color: var(--bg-color);\n",
              "    border: none;\n",
              "    border-radius: 50%;\n",
              "    cursor: pointer;\n",
              "    display: none;\n",
              "    fill: var(--fill-color);\n",
              "    height: 32px;\n",
              "    padding: 0;\n",
              "    width: 32px;\n",
              "  }\n",
              "\n",
              "  .colab-df-quickchart:hover {\n",
              "    background-color: var(--hover-bg-color);\n",
              "    box-shadow: 0 1px 2px rgba(60, 64, 67, 0.3), 0 1px 3px 1px rgba(60, 64, 67, 0.15);\n",
              "    fill: var(--button-hover-fill-color);\n",
              "  }\n",
              "\n",
              "  .colab-df-quickchart-complete:disabled,\n",
              "  .colab-df-quickchart-complete:disabled:hover {\n",
              "    background-color: var(--disabled-bg-color);\n",
              "    fill: var(--disabled-fill-color);\n",
              "    box-shadow: none;\n",
              "  }\n",
              "\n",
              "  .colab-df-spinner {\n",
              "    border: 2px solid var(--fill-color);\n",
              "    border-color: transparent;\n",
              "    border-bottom-color: var(--fill-color);\n",
              "    animation:\n",
              "      spin 1s steps(1) infinite;\n",
              "  }\n",
              "\n",
              "  @keyframes spin {\n",
              "    0% {\n",
              "      border-color: transparent;\n",
              "      border-bottom-color: var(--fill-color);\n",
              "      border-left-color: var(--fill-color);\n",
              "    }\n",
              "    20% {\n",
              "      border-color: transparent;\n",
              "      border-left-color: var(--fill-color);\n",
              "      border-top-color: var(--fill-color);\n",
              "    }\n",
              "    30% {\n",
              "      border-color: transparent;\n",
              "      border-left-color: var(--fill-color);\n",
              "      border-top-color: var(--fill-color);\n",
              "      border-right-color: var(--fill-color);\n",
              "    }\n",
              "    40% {\n",
              "      border-color: transparent;\n",
              "      border-right-color: var(--fill-color);\n",
              "      border-top-color: var(--fill-color);\n",
              "    }\n",
              "    60% {\n",
              "      border-color: transparent;\n",
              "      border-right-color: var(--fill-color);\n",
              "    }\n",
              "    80% {\n",
              "      border-color: transparent;\n",
              "      border-right-color: var(--fill-color);\n",
              "      border-bottom-color: var(--fill-color);\n",
              "    }\n",
              "    90% {\n",
              "      border-color: transparent;\n",
              "      border-bottom-color: var(--fill-color);\n",
              "    }\n",
              "  }\n",
              "</style>\n",
              "\n",
              "  <script>\n",
              "    async function quickchart(key) {\n",
              "      const quickchartButtonEl =\n",
              "        document.querySelector('#' + key + ' button');\n",
              "      quickchartButtonEl.disabled = true;  // To prevent multiple clicks.\n",
              "      quickchartButtonEl.classList.add('colab-df-spinner');\n",
              "      try {\n",
              "        const charts = await google.colab.kernel.invokeFunction(\n",
              "            'suggestCharts', [key], {});\n",
              "      } catch (error) {\n",
              "        console.error('Error during call to suggestCharts:', error);\n",
              "      }\n",
              "      quickchartButtonEl.classList.remove('colab-df-spinner');\n",
              "      quickchartButtonEl.classList.add('colab-df-quickchart-complete');\n",
              "    }\n",
              "    (() => {\n",
              "      let quickchartButtonEl =\n",
              "        document.querySelector('#df-f3828e75-e0cf-4b67-8c99-33d8f6034ab1 button');\n",
              "      quickchartButtonEl.style.display =\n",
              "        google.colab.kernel.accessAllowed ? 'block' : 'none';\n",
              "    })();\n",
              "  </script>\n",
              "</div>\n",
              "\n",
              "    </div>\n",
              "  </div>\n"
            ],
            "application/vnd.google.colaboratory.intrinsic+json": {
              "type": "dataframe"
            }
          },
          "metadata": {},
          "execution_count": 5
        }
      ],
      "source": [
        "df.tail()"
      ]
    },
    {
      "cell_type": "code",
      "execution_count": 6,
      "metadata": {
        "colab": {
          "base_uri": "https://localhost:8080/"
        },
        "id": "jGvEo0FZanNz",
        "outputId": "fc65ed1d-e91e-4b1c-edad-8daba1d8a9a9"
      },
      "outputs": [
        {
          "output_type": "execute_result",
          "data": {
            "text/plain": [
              "Unnamed: 0           int64\n",
              "Flow ID             object\n",
              " Source IP          object\n",
              " Source Port       float64\n",
              " Destination IP     object\n",
              "                    ...   \n",
              "Idle Mean          float64\n",
              " Idle Std          float64\n",
              " Idle Max          float64\n",
              " Idle Min          float64\n",
              "Class               object\n",
              "Length: 86, dtype: object"
            ]
          },
          "metadata": {},
          "execution_count": 6
        }
      ],
      "source": [
        "df.dtypes"
      ]
    },
    {
      "cell_type": "code",
      "execution_count": 7,
      "metadata": {
        "colab": {
          "base_uri": "https://localhost:8080/"
        },
        "id": "e3Y-jciqFtnC",
        "outputId": "c78f539c-4c98-40d6-8936-604a0bcbbe46"
      },
      "outputs": [
        {
          "output_type": "execute_result",
          "data": {
            "text/plain": [
              "float64    78\n",
              "object      7\n",
              "int64       1\n",
              "Name: count, dtype: int64"
            ]
          },
          "metadata": {},
          "execution_count": 7
        }
      ],
      "source": [
        "df.dtypes.value_counts()"
      ]
    },
    {
      "cell_type": "code",
      "execution_count": 8,
      "metadata": {
        "colab": {
          "base_uri": "https://localhost:8080/"
        },
        "id": "6ouAxNhBap8A",
        "outputId": "8514188f-81df-4379-b060-332f3e538a33"
      },
      "outputs": [
        {
          "output_type": "execute_result",
          "data": {
            "text/plain": [
              "(523617, 86)"
            ]
          },
          "metadata": {},
          "execution_count": 8
        }
      ],
      "source": [
        "df.shape"
      ]
    },
    {
      "cell_type": "code",
      "execution_count": 9,
      "metadata": {
        "id": "Cu1jilyJZoFd"
      },
      "outputs": [],
      "source": [
        "df.columns = df.columns.str.replace(' ', '')"
      ]
    },
    {
      "cell_type": "code",
      "execution_count": 10,
      "metadata": {
        "colab": {
          "base_uri": "https://localhost:8080/"
        },
        "id": "vXUoHzDwZq5i",
        "outputId": "c6f57f62-35ca-46eb-9c1d-bc574ffae375"
      },
      "outputs": [
        {
          "output_type": "execute_result",
          "data": {
            "text/plain": [
              "Index(['Unnamed:0', 'FlowID', 'SourceIP', 'SourcePort', 'DestinationIP',\n",
              "       'DestinationPort', 'Protocol', 'Timestamp', 'FlowDuration',\n",
              "       'TotalFwdPackets', 'TotalBackwardPackets', 'TotalLengthofFwdPackets',\n",
              "       'TotalLengthofBwdPackets', 'FwdPacketLengthMax', 'FwdPacketLengthMin',\n",
              "       'FwdPacketLengthMean', 'FwdPacketLengthStd', 'BwdPacketLengthMax',\n",
              "       'BwdPacketLengthMin', 'BwdPacketLengthMean', 'BwdPacketLengthStd',\n",
              "       'FlowBytes/s', 'FlowPackets/s', 'FlowIATMean', 'FlowIATStd',\n",
              "       'FlowIATMax', 'FlowIATMin', 'FwdIATTotal', 'FwdIATMean', 'FwdIATStd',\n",
              "       'FwdIATMax', 'FwdIATMin', 'BwdIATTotal', 'BwdIATMean', 'BwdIATStd',\n",
              "       'BwdIATMax', 'BwdIATMin', 'FwdPSHFlags', 'BwdPSHFlags', 'FwdURGFlags',\n",
              "       'BwdURGFlags', 'FwdHeaderLength', 'BwdHeaderLength', 'FwdPackets/s',\n",
              "       'BwdPackets/s', 'MinPacketLength', 'MaxPacketLength',\n",
              "       'PacketLengthMean', 'PacketLengthStd', 'PacketLengthVariance',\n",
              "       'FINFlagCount', 'SYNFlagCount', 'RSTFlagCount', 'PSHFlagCount',\n",
              "       'ACKFlagCount', 'URGFlagCount', 'CWEFlagCount', 'ECEFlagCount',\n",
              "       'Down/UpRatio', 'AveragePacketSize', 'AvgFwdSegmentSize',\n",
              "       'AvgBwdSegmentSize', 'FwdHeaderLength.1', 'FwdAvgBytes/Bulk',\n",
              "       'FwdAvgPackets/Bulk', 'FwdAvgBulkRate', 'BwdAvgBytes/Bulk',\n",
              "       'BwdAvgPackets/Bulk', 'BwdAvgBulkRate', 'SubflowFwdPackets',\n",
              "       'SubflowFwdBytes', 'SubflowBwdPackets', 'SubflowBwdBytes',\n",
              "       'Init_Win_bytes_forward', 'Init_Win_bytes_backward', 'act_data_pkt_fwd',\n",
              "       'min_seg_size_forward', 'ActiveMean', 'ActiveStd', 'ActiveMax',\n",
              "       'ActiveMin', 'IdleMean', 'IdleStd', 'IdleMax', 'IdleMin', 'Class'],\n",
              "      dtype='object')"
            ]
          },
          "metadata": {},
          "execution_count": 10
        }
      ],
      "source": [
        "df.columns"
      ]
    },
    {
      "cell_type": "code",
      "execution_count": 11,
      "metadata": {
        "colab": {
          "base_uri": "https://localhost:8080/",
          "height": 349
        },
        "id": "t89_kKZFaq2w",
        "outputId": "28f4f2c2-a3ec-4139-8307-67055dcaa370"
      },
      "outputs": [
        {
          "output_type": "execute_result",
          "data": {
            "text/plain": [
              "           Unnamed:0     SourcePort  DestinationPort       Protocol  \\\n",
              "count  523617.000000  523617.000000    523617.000000  523617.000000   \n",
              "mean   261808.000000   38389.622917      6222.747054       8.435195   \n",
              "std    151155.352289   18713.642457     15681.211329     157.569965   \n",
              "min         0.000000       0.000000         0.000000       0.000000   \n",
              "25%    130904.000000   34019.000000        80.000000       6.000000   \n",
              "50%    261808.000000   43186.000000       443.000000       6.000000   \n",
              "75%    392712.000000   52281.000000       443.000000       6.000000   \n",
              "max    523616.000000  124560.000000     65428.000000   65812.000000   \n",
              "\n",
              "       FlowDuration  TotalFwdPackets  TotalBackwardPackets  \\\n",
              "count  5.236170e+05    523617.000000         523617.000000   \n",
              "mean   1.116307e+07         9.475619             17.819533   \n",
              "std    2.307145e+07        97.897284            321.858169   \n",
              "min    0.000000e+00         0.000000              0.000000   \n",
              "25%    3.730600e+04         1.000000              0.000000   \n",
              "50%    4.745050e+05         2.000000              1.000000   \n",
              "75%    1.031474e+07         6.000000              4.000000   \n",
              "max    1.199967e+08      8671.000000          14993.000000   \n",
              "\n",
              "       TotalLengthofFwdPackets  TotalLengthofBwdPackets  FwdPacketLengthMax  \\\n",
              "count             5.236170e+05             5.236170e+05       523617.000000   \n",
              "mean              1.043487e+03             2.156387e+04          215.842782   \n",
              "std               5.361425e+04             4.633844e+05          369.316080   \n",
              "min               0.000000e+00             0.000000e+00            0.000000   \n",
              "25%               0.000000e+00             0.000000e+00            0.000000   \n",
              "50%               3.100000e+01             0.000000e+00           31.000000   \n",
              "75%               4.620000e+02             4.140000e+02          350.000000   \n",
              "max               1.249095e+07             2.166097e+07         1460.000000   \n",
              "\n",
              "       ...  act_data_pkt_fwd  min_seg_size_forward    ActiveMean  \\\n",
              "count  ...     523597.000000          5.235970e+05  5.235970e+05   \n",
              "mean   ...          1.777533         -2.135277e+04  1.659947e+05   \n",
              "std    ...         37.463590          5.169081e+06  9.027506e+05   \n",
              "min    ...          0.000000         -1.395062e+09  0.000000e+00   \n",
              "25%    ...          0.000000          2.000000e+01  0.000000e+00   \n",
              "50%    ...          0.000000          3.200000e+01  0.000000e+00   \n",
              "75%    ...          1.000000          3.200000e+01  0.000000e+00   \n",
              "max    ...       8669.000000          1.705248e+08  5.041965e+07   \n",
              "\n",
              "          ActiveStd     ActiveMax     ActiveMin      IdleMean       IdleStd  \\\n",
              "count  5.235950e+05  5.235950e+05  5.235950e+05  5.235950e+05  5.235950e+05   \n",
              "mean   2.369898e+04  1.887055e+05  1.482351e+05  4.390550e+06  4.059862e+05   \n",
              "std    3.757831e+05  1.078287e+06  8.526430e+05  1.511112e+07  3.337708e+06   \n",
              "min    0.000000e+00  0.000000e+00  0.000000e+00  0.000000e+00  0.000000e+00   \n",
              "25%    0.000000e+00  0.000000e+00  0.000000e+00  0.000000e+00  0.000000e+00   \n",
              "50%    0.000000e+00  0.000000e+00  0.000000e+00  0.000000e+00  0.000000e+00   \n",
              "75%    0.000000e+00  0.000000e+00  0.000000e+00  0.000000e+00  0.000000e+00   \n",
              "max    5.795123e+07  9.139736e+07  4.993167e+07  1.196749e+08  7.554958e+07   \n",
              "\n",
              "            IdleMax       IdleMin  \n",
              "count  5.235950e+05  5.235950e+05  \n",
              "mean   4.738970e+06  4.082014e+06  \n",
              "std    1.598408e+07  1.470351e+07  \n",
              "min    0.000000e+00  0.000000e+00  \n",
              "25%    0.000000e+00  0.000000e+00  \n",
              "50%    0.000000e+00  0.000000e+00  \n",
              "75%    0.000000e+00  0.000000e+00  \n",
              "max    1.196749e+08  1.196749e+08  \n",
              "\n",
              "[8 rows x 79 columns]"
            ],
            "text/html": [
              "\n",
              "  <div id=\"df-4615c624-605e-4831-9e6c-00ca44735673\" class=\"colab-df-container\">\n",
              "    <div>\n",
              "<style scoped>\n",
              "    .dataframe tbody tr th:only-of-type {\n",
              "        vertical-align: middle;\n",
              "    }\n",
              "\n",
              "    .dataframe tbody tr th {\n",
              "        vertical-align: top;\n",
              "    }\n",
              "\n",
              "    .dataframe thead th {\n",
              "        text-align: right;\n",
              "    }\n",
              "</style>\n",
              "<table border=\"1\" class=\"dataframe\">\n",
              "  <thead>\n",
              "    <tr style=\"text-align: right;\">\n",
              "      <th></th>\n",
              "      <th>Unnamed:0</th>\n",
              "      <th>SourcePort</th>\n",
              "      <th>DestinationPort</th>\n",
              "      <th>Protocol</th>\n",
              "      <th>FlowDuration</th>\n",
              "      <th>TotalFwdPackets</th>\n",
              "      <th>TotalBackwardPackets</th>\n",
              "      <th>TotalLengthofFwdPackets</th>\n",
              "      <th>TotalLengthofBwdPackets</th>\n",
              "      <th>FwdPacketLengthMax</th>\n",
              "      <th>...</th>\n",
              "      <th>act_data_pkt_fwd</th>\n",
              "      <th>min_seg_size_forward</th>\n",
              "      <th>ActiveMean</th>\n",
              "      <th>ActiveStd</th>\n",
              "      <th>ActiveMax</th>\n",
              "      <th>ActiveMin</th>\n",
              "      <th>IdleMean</th>\n",
              "      <th>IdleStd</th>\n",
              "      <th>IdleMax</th>\n",
              "      <th>IdleMin</th>\n",
              "    </tr>\n",
              "  </thead>\n",
              "  <tbody>\n",
              "    <tr>\n",
              "      <th>count</th>\n",
              "      <td>523617.000000</td>\n",
              "      <td>523617.000000</td>\n",
              "      <td>523617.000000</td>\n",
              "      <td>523617.000000</td>\n",
              "      <td>5.236170e+05</td>\n",
              "      <td>523617.000000</td>\n",
              "      <td>523617.000000</td>\n",
              "      <td>5.236170e+05</td>\n",
              "      <td>5.236170e+05</td>\n",
              "      <td>523617.000000</td>\n",
              "      <td>...</td>\n",
              "      <td>523597.000000</td>\n",
              "      <td>5.235970e+05</td>\n",
              "      <td>5.235970e+05</td>\n",
              "      <td>5.235950e+05</td>\n",
              "      <td>5.235950e+05</td>\n",
              "      <td>5.235950e+05</td>\n",
              "      <td>5.235950e+05</td>\n",
              "      <td>5.235950e+05</td>\n",
              "      <td>5.235950e+05</td>\n",
              "      <td>5.235950e+05</td>\n",
              "    </tr>\n",
              "    <tr>\n",
              "      <th>mean</th>\n",
              "      <td>261808.000000</td>\n",
              "      <td>38389.622917</td>\n",
              "      <td>6222.747054</td>\n",
              "      <td>8.435195</td>\n",
              "      <td>1.116307e+07</td>\n",
              "      <td>9.475619</td>\n",
              "      <td>17.819533</td>\n",
              "      <td>1.043487e+03</td>\n",
              "      <td>2.156387e+04</td>\n",
              "      <td>215.842782</td>\n",
              "      <td>...</td>\n",
              "      <td>1.777533</td>\n",
              "      <td>-2.135277e+04</td>\n",
              "      <td>1.659947e+05</td>\n",
              "      <td>2.369898e+04</td>\n",
              "      <td>1.887055e+05</td>\n",
              "      <td>1.482351e+05</td>\n",
              "      <td>4.390550e+06</td>\n",
              "      <td>4.059862e+05</td>\n",
              "      <td>4.738970e+06</td>\n",
              "      <td>4.082014e+06</td>\n",
              "    </tr>\n",
              "    <tr>\n",
              "      <th>std</th>\n",
              "      <td>151155.352289</td>\n",
              "      <td>18713.642457</td>\n",
              "      <td>15681.211329</td>\n",
              "      <td>157.569965</td>\n",
              "      <td>2.307145e+07</td>\n",
              "      <td>97.897284</td>\n",
              "      <td>321.858169</td>\n",
              "      <td>5.361425e+04</td>\n",
              "      <td>4.633844e+05</td>\n",
              "      <td>369.316080</td>\n",
              "      <td>...</td>\n",
              "      <td>37.463590</td>\n",
              "      <td>5.169081e+06</td>\n",
              "      <td>9.027506e+05</td>\n",
              "      <td>3.757831e+05</td>\n",
              "      <td>1.078287e+06</td>\n",
              "      <td>8.526430e+05</td>\n",
              "      <td>1.511112e+07</td>\n",
              "      <td>3.337708e+06</td>\n",
              "      <td>1.598408e+07</td>\n",
              "      <td>1.470351e+07</td>\n",
              "    </tr>\n",
              "    <tr>\n",
              "      <th>min</th>\n",
              "      <td>0.000000</td>\n",
              "      <td>0.000000</td>\n",
              "      <td>0.000000</td>\n",
              "      <td>0.000000</td>\n",
              "      <td>0.000000e+00</td>\n",
              "      <td>0.000000</td>\n",
              "      <td>0.000000</td>\n",
              "      <td>0.000000e+00</td>\n",
              "      <td>0.000000e+00</td>\n",
              "      <td>0.000000</td>\n",
              "      <td>...</td>\n",
              "      <td>0.000000</td>\n",
              "      <td>-1.395062e+09</td>\n",
              "      <td>0.000000e+00</td>\n",
              "      <td>0.000000e+00</td>\n",
              "      <td>0.000000e+00</td>\n",
              "      <td>0.000000e+00</td>\n",
              "      <td>0.000000e+00</td>\n",
              "      <td>0.000000e+00</td>\n",
              "      <td>0.000000e+00</td>\n",
              "      <td>0.000000e+00</td>\n",
              "    </tr>\n",
              "    <tr>\n",
              "      <th>25%</th>\n",
              "      <td>130904.000000</td>\n",
              "      <td>34019.000000</td>\n",
              "      <td>80.000000</td>\n",
              "      <td>6.000000</td>\n",
              "      <td>3.730600e+04</td>\n",
              "      <td>1.000000</td>\n",
              "      <td>0.000000</td>\n",
              "      <td>0.000000e+00</td>\n",
              "      <td>0.000000e+00</td>\n",
              "      <td>0.000000</td>\n",
              "      <td>...</td>\n",
              "      <td>0.000000</td>\n",
              "      <td>2.000000e+01</td>\n",
              "      <td>0.000000e+00</td>\n",
              "      <td>0.000000e+00</td>\n",
              "      <td>0.000000e+00</td>\n",
              "      <td>0.000000e+00</td>\n",
              "      <td>0.000000e+00</td>\n",
              "      <td>0.000000e+00</td>\n",
              "      <td>0.000000e+00</td>\n",
              "      <td>0.000000e+00</td>\n",
              "    </tr>\n",
              "    <tr>\n",
              "      <th>50%</th>\n",
              "      <td>261808.000000</td>\n",
              "      <td>43186.000000</td>\n",
              "      <td>443.000000</td>\n",
              "      <td>6.000000</td>\n",
              "      <td>4.745050e+05</td>\n",
              "      <td>2.000000</td>\n",
              "      <td>1.000000</td>\n",
              "      <td>3.100000e+01</td>\n",
              "      <td>0.000000e+00</td>\n",
              "      <td>31.000000</td>\n",
              "      <td>...</td>\n",
              "      <td>0.000000</td>\n",
              "      <td>3.200000e+01</td>\n",
              "      <td>0.000000e+00</td>\n",
              "      <td>0.000000e+00</td>\n",
              "      <td>0.000000e+00</td>\n",
              "      <td>0.000000e+00</td>\n",
              "      <td>0.000000e+00</td>\n",
              "      <td>0.000000e+00</td>\n",
              "      <td>0.000000e+00</td>\n",
              "      <td>0.000000e+00</td>\n",
              "    </tr>\n",
              "    <tr>\n",
              "      <th>75%</th>\n",
              "      <td>392712.000000</td>\n",
              "      <td>52281.000000</td>\n",
              "      <td>443.000000</td>\n",
              "      <td>6.000000</td>\n",
              "      <td>1.031474e+07</td>\n",
              "      <td>6.000000</td>\n",
              "      <td>4.000000</td>\n",
              "      <td>4.620000e+02</td>\n",
              "      <td>4.140000e+02</td>\n",
              "      <td>350.000000</td>\n",
              "      <td>...</td>\n",
              "      <td>1.000000</td>\n",
              "      <td>3.200000e+01</td>\n",
              "      <td>0.000000e+00</td>\n",
              "      <td>0.000000e+00</td>\n",
              "      <td>0.000000e+00</td>\n",
              "      <td>0.000000e+00</td>\n",
              "      <td>0.000000e+00</td>\n",
              "      <td>0.000000e+00</td>\n",
              "      <td>0.000000e+00</td>\n",
              "      <td>0.000000e+00</td>\n",
              "    </tr>\n",
              "    <tr>\n",
              "      <th>max</th>\n",
              "      <td>523616.000000</td>\n",
              "      <td>124560.000000</td>\n",
              "      <td>65428.000000</td>\n",
              "      <td>65812.000000</td>\n",
              "      <td>1.199967e+08</td>\n",
              "      <td>8671.000000</td>\n",
              "      <td>14993.000000</td>\n",
              "      <td>1.249095e+07</td>\n",
              "      <td>2.166097e+07</td>\n",
              "      <td>1460.000000</td>\n",
              "      <td>...</td>\n",
              "      <td>8669.000000</td>\n",
              "      <td>1.705248e+08</td>\n",
              "      <td>5.041965e+07</td>\n",
              "      <td>5.795123e+07</td>\n",
              "      <td>9.139736e+07</td>\n",
              "      <td>4.993167e+07</td>\n",
              "      <td>1.196749e+08</td>\n",
              "      <td>7.554958e+07</td>\n",
              "      <td>1.196749e+08</td>\n",
              "      <td>1.196749e+08</td>\n",
              "    </tr>\n",
              "  </tbody>\n",
              "</table>\n",
              "<p>8 rows × 79 columns</p>\n",
              "</div>\n",
              "    <div class=\"colab-df-buttons\">\n",
              "\n",
              "  <div class=\"colab-df-container\">\n",
              "    <button class=\"colab-df-convert\" onclick=\"convertToInteractive('df-4615c624-605e-4831-9e6c-00ca44735673')\"\n",
              "            title=\"Convert this dataframe to an interactive table.\"\n",
              "            style=\"display:none;\">\n",
              "\n",
              "  <svg xmlns=\"http://www.w3.org/2000/svg\" height=\"24px\" viewBox=\"0 -960 960 960\">\n",
              "    <path d=\"M120-120v-720h720v720H120Zm60-500h600v-160H180v160Zm220 220h160v-160H400v160Zm0 220h160v-160H400v160ZM180-400h160v-160H180v160Zm440 0h160v-160H620v160ZM180-180h160v-160H180v160Zm440 0h160v-160H620v160Z\"/>\n",
              "  </svg>\n",
              "    </button>\n",
              "\n",
              "  <style>\n",
              "    .colab-df-container {\n",
              "      display:flex;\n",
              "      gap: 12px;\n",
              "    }\n",
              "\n",
              "    .colab-df-convert {\n",
              "      background-color: #E8F0FE;\n",
              "      border: none;\n",
              "      border-radius: 50%;\n",
              "      cursor: pointer;\n",
              "      display: none;\n",
              "      fill: #1967D2;\n",
              "      height: 32px;\n",
              "      padding: 0 0 0 0;\n",
              "      width: 32px;\n",
              "    }\n",
              "\n",
              "    .colab-df-convert:hover {\n",
              "      background-color: #E2EBFA;\n",
              "      box-shadow: 0px 1px 2px rgba(60, 64, 67, 0.3), 0px 1px 3px 1px rgba(60, 64, 67, 0.15);\n",
              "      fill: #174EA6;\n",
              "    }\n",
              "\n",
              "    .colab-df-buttons div {\n",
              "      margin-bottom: 4px;\n",
              "    }\n",
              "\n",
              "    [theme=dark] .colab-df-convert {\n",
              "      background-color: #3B4455;\n",
              "      fill: #D2E3FC;\n",
              "    }\n",
              "\n",
              "    [theme=dark] .colab-df-convert:hover {\n",
              "      background-color: #434B5C;\n",
              "      box-shadow: 0px 1px 3px 1px rgba(0, 0, 0, 0.15);\n",
              "      filter: drop-shadow(0px 1px 2px rgba(0, 0, 0, 0.3));\n",
              "      fill: #FFFFFF;\n",
              "    }\n",
              "  </style>\n",
              "\n",
              "    <script>\n",
              "      const buttonEl =\n",
              "        document.querySelector('#df-4615c624-605e-4831-9e6c-00ca44735673 button.colab-df-convert');\n",
              "      buttonEl.style.display =\n",
              "        google.colab.kernel.accessAllowed ? 'block' : 'none';\n",
              "\n",
              "      async function convertToInteractive(key) {\n",
              "        const element = document.querySelector('#df-4615c624-605e-4831-9e6c-00ca44735673');\n",
              "        const dataTable =\n",
              "          await google.colab.kernel.invokeFunction('convertToInteractive',\n",
              "                                                    [key], {});\n",
              "        if (!dataTable) return;\n",
              "\n",
              "        const docLinkHtml = 'Like what you see? Visit the ' +\n",
              "          '<a target=\"_blank\" href=https://colab.research.google.com/notebooks/data_table.ipynb>data table notebook</a>'\n",
              "          + ' to learn more about interactive tables.';\n",
              "        element.innerHTML = '';\n",
              "        dataTable['output_type'] = 'display_data';\n",
              "        await google.colab.output.renderOutput(dataTable, element);\n",
              "        const docLink = document.createElement('div');\n",
              "        docLink.innerHTML = docLinkHtml;\n",
              "        element.appendChild(docLink);\n",
              "      }\n",
              "    </script>\n",
              "  </div>\n",
              "\n",
              "\n",
              "<div id=\"df-41f1d372-92d0-4743-87ca-9c3ce8f0b1ba\">\n",
              "  <button class=\"colab-df-quickchart\" onclick=\"quickchart('df-41f1d372-92d0-4743-87ca-9c3ce8f0b1ba')\"\n",
              "            title=\"Suggest charts\"\n",
              "            style=\"display:none;\">\n",
              "\n",
              "<svg xmlns=\"http://www.w3.org/2000/svg\" height=\"24px\"viewBox=\"0 0 24 24\"\n",
              "     width=\"24px\">\n",
              "    <g>\n",
              "        <path d=\"M19 3H5c-1.1 0-2 .9-2 2v14c0 1.1.9 2 2 2h14c1.1 0 2-.9 2-2V5c0-1.1-.9-2-2-2zM9 17H7v-7h2v7zm4 0h-2V7h2v10zm4 0h-2v-4h2v4z\"/>\n",
              "    </g>\n",
              "</svg>\n",
              "  </button>\n",
              "\n",
              "<style>\n",
              "  .colab-df-quickchart {\n",
              "      --bg-color: #E8F0FE;\n",
              "      --fill-color: #1967D2;\n",
              "      --hover-bg-color: #E2EBFA;\n",
              "      --hover-fill-color: #174EA6;\n",
              "      --disabled-fill-color: #AAA;\n",
              "      --disabled-bg-color: #DDD;\n",
              "  }\n",
              "\n",
              "  [theme=dark] .colab-df-quickchart {\n",
              "      --bg-color: #3B4455;\n",
              "      --fill-color: #D2E3FC;\n",
              "      --hover-bg-color: #434B5C;\n",
              "      --hover-fill-color: #FFFFFF;\n",
              "      --disabled-bg-color: #3B4455;\n",
              "      --disabled-fill-color: #666;\n",
              "  }\n",
              "\n",
              "  .colab-df-quickchart {\n",
              "    background-color: var(--bg-color);\n",
              "    border: none;\n",
              "    border-radius: 50%;\n",
              "    cursor: pointer;\n",
              "    display: none;\n",
              "    fill: var(--fill-color);\n",
              "    height: 32px;\n",
              "    padding: 0;\n",
              "    width: 32px;\n",
              "  }\n",
              "\n",
              "  .colab-df-quickchart:hover {\n",
              "    background-color: var(--hover-bg-color);\n",
              "    box-shadow: 0 1px 2px rgba(60, 64, 67, 0.3), 0 1px 3px 1px rgba(60, 64, 67, 0.15);\n",
              "    fill: var(--button-hover-fill-color);\n",
              "  }\n",
              "\n",
              "  .colab-df-quickchart-complete:disabled,\n",
              "  .colab-df-quickchart-complete:disabled:hover {\n",
              "    background-color: var(--disabled-bg-color);\n",
              "    fill: var(--disabled-fill-color);\n",
              "    box-shadow: none;\n",
              "  }\n",
              "\n",
              "  .colab-df-spinner {\n",
              "    border: 2px solid var(--fill-color);\n",
              "    border-color: transparent;\n",
              "    border-bottom-color: var(--fill-color);\n",
              "    animation:\n",
              "      spin 1s steps(1) infinite;\n",
              "  }\n",
              "\n",
              "  @keyframes spin {\n",
              "    0% {\n",
              "      border-color: transparent;\n",
              "      border-bottom-color: var(--fill-color);\n",
              "      border-left-color: var(--fill-color);\n",
              "    }\n",
              "    20% {\n",
              "      border-color: transparent;\n",
              "      border-left-color: var(--fill-color);\n",
              "      border-top-color: var(--fill-color);\n",
              "    }\n",
              "    30% {\n",
              "      border-color: transparent;\n",
              "      border-left-color: var(--fill-color);\n",
              "      border-top-color: var(--fill-color);\n",
              "      border-right-color: var(--fill-color);\n",
              "    }\n",
              "    40% {\n",
              "      border-color: transparent;\n",
              "      border-right-color: var(--fill-color);\n",
              "      border-top-color: var(--fill-color);\n",
              "    }\n",
              "    60% {\n",
              "      border-color: transparent;\n",
              "      border-right-color: var(--fill-color);\n",
              "    }\n",
              "    80% {\n",
              "      border-color: transparent;\n",
              "      border-right-color: var(--fill-color);\n",
              "      border-bottom-color: var(--fill-color);\n",
              "    }\n",
              "    90% {\n",
              "      border-color: transparent;\n",
              "      border-bottom-color: var(--fill-color);\n",
              "    }\n",
              "  }\n",
              "</style>\n",
              "\n",
              "  <script>\n",
              "    async function quickchart(key) {\n",
              "      const quickchartButtonEl =\n",
              "        document.querySelector('#' + key + ' button');\n",
              "      quickchartButtonEl.disabled = true;  // To prevent multiple clicks.\n",
              "      quickchartButtonEl.classList.add('colab-df-spinner');\n",
              "      try {\n",
              "        const charts = await google.colab.kernel.invokeFunction(\n",
              "            'suggestCharts', [key], {});\n",
              "      } catch (error) {\n",
              "        console.error('Error during call to suggestCharts:', error);\n",
              "      }\n",
              "      quickchartButtonEl.classList.remove('colab-df-spinner');\n",
              "      quickchartButtonEl.classList.add('colab-df-quickchart-complete');\n",
              "    }\n",
              "    (() => {\n",
              "      let quickchartButtonEl =\n",
              "        document.querySelector('#df-41f1d372-92d0-4743-87ca-9c3ce8f0b1ba button');\n",
              "      quickchartButtonEl.style.display =\n",
              "        google.colab.kernel.accessAllowed ? 'block' : 'none';\n",
              "    })();\n",
              "  </script>\n",
              "</div>\n",
              "\n",
              "    </div>\n",
              "  </div>\n"
            ],
            "application/vnd.google.colaboratory.intrinsic+json": {
              "type": "dataframe"
            }
          },
          "metadata": {},
          "execution_count": 11
        }
      ],
      "source": [
        "df.describe()"
      ]
    },
    {
      "cell_type": "code",
      "execution_count": 12,
      "metadata": {
        "colab": {
          "base_uri": "https://localhost:8080/"
        },
        "id": "qPc6E1Pka6Tc",
        "outputId": "4b4b12e1-ab3a-46aa-9e41-bfe4018f5ceb"
      },
      "outputs": [
        {
          "output_type": "execute_result",
          "data": {
            "text/plain": [
              "Unnamed:0         0\n",
              "FlowID            7\n",
              "SourceIP          0\n",
              "SourcePort        0\n",
              "DestinationIP     0\n",
              "                 ..\n",
              "IdleMean         22\n",
              "IdleStd          22\n",
              "IdleMax          22\n",
              "IdleMin          22\n",
              "Class             0\n",
              "Length: 86, dtype: int64"
            ]
          },
          "metadata": {},
          "execution_count": 12
        }
      ],
      "source": [
        "df.isna().sum()"
      ]
    },
    {
      "cell_type": "code",
      "execution_count": 13,
      "metadata": {
        "colab": {
          "base_uri": "https://localhost:8080/"
        },
        "id": "QehBRTZthcDb",
        "outputId": "b2485edd-d872-425d-b26b-ea1948534d41"
      },
      "outputs": [
        {
          "output_type": "execute_result",
          "data": {
            "text/plain": [
              "0"
            ]
          },
          "metadata": {},
          "execution_count": 13
        }
      ],
      "source": [
        "df.duplicated().sum()\n"
      ]
    },
    {
      "cell_type": "code",
      "execution_count": 14,
      "metadata": {
        "id": "-K96TuwWWnCh"
      },
      "outputs": [],
      "source": [
        "df.fillna(0,inplace=True)"
      ]
    },
    {
      "cell_type": "code",
      "execution_count": 15,
      "metadata": {
        "colab": {
          "base_uri": "https://localhost:8080/"
        },
        "id": "B1wD0E6sLHC7",
        "outputId": "0d670ce4-4c7b-46f4-f27e-e7e78752b2af"
      },
      "outputs": [
        {
          "output_type": "execute_result",
          "data": {
            "text/plain": [
              "Unnamed:0        0\n",
              "FlowID           0\n",
              "SourceIP         0\n",
              "SourcePort       0\n",
              "DestinationIP    0\n",
              "                ..\n",
              "IdleMean         0\n",
              "IdleStd          0\n",
              "IdleMax          0\n",
              "IdleMin          0\n",
              "Class            0\n",
              "Length: 86, dtype: int64"
            ]
          },
          "metadata": {},
          "execution_count": 15
        }
      ],
      "source": [
        "df.isna().sum()"
      ]
    },
    {
      "cell_type": "code",
      "execution_count": 16,
      "metadata": {
        "colab": {
          "base_uri": "https://localhost:8080/"
        },
        "id": "NlItgNYAXsW4",
        "outputId": "df2ab9e6-7fad-426d-f36a-612acfe2d705"
      },
      "outputs": [
        {
          "output_type": "execute_result",
          "data": {
            "text/plain": [
              "Unnamed:0          int64\n",
              "FlowID            object\n",
              "SourceIP          object\n",
              "SourcePort       float64\n",
              "DestinationIP     object\n",
              "                  ...   \n",
              "IdleMean         float64\n",
              "IdleStd          float64\n",
              "IdleMax          float64\n",
              "IdleMin          float64\n",
              "Class             object\n",
              "Length: 86, dtype: object"
            ]
          },
          "metadata": {},
          "execution_count": 16
        }
      ],
      "source": [
        "df.dtypes"
      ]
    },
    {
      "cell_type": "code",
      "execution_count": 17,
      "metadata": {
        "id": "wV2H8NfShOAW"
      },
      "outputs": [],
      "source": [
        "df.drop(['Unnamed:0'],axis=1,inplace=True)"
      ]
    },
    {
      "cell_type": "code",
      "source": [
        "lb = LabelEncoder()\n",
        "df['FlowID']= df['FlowID'].astype(str)\n",
        "df['FlowID']=lb.fit_transform(df['FlowID'])\n",
        "df['SourceIP']=lb.fit_transform(df['SourceIP'])\n",
        "df['DestinationIP']= lb.fit_transform(df['DestinationIP'])"
      ],
      "metadata": {
        "id": "ilGDhrif2BW3"
      },
      "execution_count": 18,
      "outputs": []
    },
    {
      "cell_type": "code",
      "execution_count": 19,
      "metadata": {
        "id": "3eHI6-yZT-WP"
      },
      "outputs": [],
      "source": [
        "df['PacketLengthStd'] = df['PacketLengthStd'].replace('SCAREWARE', 2)\n",
        "df['CWEFlagCount'] = df['CWEFlagCount'].replace('SCAREWARE', 2)\n",
        "df['CWEFlagCount'] = df['CWEFlagCount'].astype(float)\n",
        "df['PacketLengthStd'] = df['PacketLengthStd'].astype(float)\n",
        "format_string = \"%d/%m/%Y %H:%M:%S\"\n",
        "df['Timestamp'] = pd.to_datetime(df['Timestamp'], format=format_string, errors='coerce')\n",
        "df.dropna(subset=['Timestamp'], inplace=True)\n",
        "df['Timestamp'] = df['Timestamp'].astype(int)"
      ]
    },
    {
      "cell_type": "code",
      "source": [
        "df['Class'].value_counts()"
      ],
      "metadata": {
        "colab": {
          "base_uri": "https://localhost:8080/"
        },
        "id": "Vxv8-zBOR3Pg",
        "outputId": "13674c80-18d3-47f3-f715-89b0c24caa59"
      },
      "execution_count": 20,
      "outputs": [
        {
          "output_type": "execute_result",
          "data": {
            "text/plain": [
              "Class\n",
              "Benign       308813\n",
              "Keylogger    214799\n",
              "Name: count, dtype: int64"
            ]
          },
          "metadata": {},
          "execution_count": 20
        }
      ]
    },
    {
      "cell_type": "code",
      "source": [
        "plt.title(\"Count Plot of Class labels\")\n",
        "plt.xlabel(\"Class Labels\")\n",
        "plt.ylabel(\"Frequency\")\n",
        "sns.countplot(x=df['Class'],data=df,hue=df['Class'])\n",
        "plt.show()"
      ],
      "metadata": {
        "colab": {
          "base_uri": "https://localhost:8080/",
          "height": 472
        },
        "id": "oKW-epIzR-3e",
        "outputId": "5937c86f-be5f-4354-fc44-40479f1136a2"
      },
      "execution_count": 21,
      "outputs": [
        {
          "output_type": "display_data",
          "data": {
            "text/plain": [
              "<Figure size 640x480 with 1 Axes>"
            ],
            "image/png": "[encoded data removed]"
          },
          "metadata": {}
        }
      ]
    },
    {
      "cell_type": "code",
      "execution_count": 22,
      "metadata": {
        "id": "eJ-D0Q6dILDu",
        "colab": {
          "base_uri": "https://localhost:8080/"
        },
        "outputId": "926868c0-4ae2-49ef-bd8c-4a57901da6e0"
      },
      "outputs": [
        {
          "output_type": "execute_result",
          "data": {
            "text/plain": [
              "array([[4.2252e+04, 6.0000e+00, 3.4451e+04, ..., 0.0000e+00, 0.0000e+00,\n",
              "        0.0000e+00],\n",
              "       [6.9114e+04, 5.0000e+00, 5.3892e+04, ..., 0.0000e+00, 0.0000e+00,\n",
              "        0.0000e+00],\n",
              "       [6.8944e+04, 4.9100e+02, 4.4300e+02, ..., 0.0000e+00, 0.0000e+00,\n",
              "        0.0000e+00],\n",
              "       ...,\n",
              "       [8.9800e+04, 6.0000e+00, 6.0995e+04, ..., 0.0000e+00, 0.0000e+00,\n",
              "        0.0000e+00],\n",
              "       [6.4039e+04, 6.0000e+00, 5.2724e+04, ..., 0.0000e+00, 0.0000e+00,\n",
              "        0.0000e+00],\n",
              "       [3.6493e+04, 1.7900e+02, 4.4300e+02, ..., 0.0000e+00, 0.0000e+00,\n",
              "        0.0000e+00]])"
            ]
          },
          "metadata": {},
          "execution_count": 22
        }
      ],
      "source": [
        "x = df.iloc[:,:-1].values\n",
        "x"
      ]
    },
    {
      "cell_type": "code",
      "execution_count": 23,
      "metadata": {
        "id": "bTpX_f33XCNi",
        "colab": {
          "base_uri": "https://localhost:8080/"
        },
        "outputId": "39707852-959d-4d9a-8c6a-dc03b7186393"
      },
      "outputs": [
        {
          "output_type": "execute_result",
          "data": {
            "text/plain": [
              "array(['Benign', 'Benign', 'Benign', ..., 'Benign', 'Benign', 'Keylogger'],\n",
              "      dtype=object)"
            ]
          },
          "metadata": {},
          "execution_count": 23
        }
      ],
      "source": [
        "y = df.iloc[:,-1].values\n",
        "y"
      ]
    },
    {
      "cell_type": "markdown",
      "metadata": {
        "id": "kd8DQRfifgbi"
      },
      "source": [
        "\n",
        "\n",
        "\n",
        "\n",
        "\n",
        "###**Train and Test Data Separation**"
      ]
    },
    {
      "cell_type": "code",
      "execution_count": 24,
      "metadata": {
        "id": "vtYtCzL6XMkB"
      },
      "outputs": [],
      "source": [
        "x_train,x_test,y_train,y_test= train_test_split(x,y,test_size=0.3,random_state=42)"
      ]
    },
    {
      "cell_type": "code",
      "execution_count": 25,
      "metadata": {
        "id": "UUelp8i9XfQ6",
        "colab": {
          "base_uri": "https://localhost:8080/"
        },
        "outputId": "42816d0b-f382-4941-c560-130e445e5909"
      },
      "outputs": [
        {
          "output_type": "execute_result",
          "data": {
            "text/plain": [
              "array([[8.0336000e+04, 5.0000000e+00, 4.3155000e+04, ..., 0.0000000e+00,\n",
              "        5.5872610e+06, 5.5872610e+06],\n",
              "       [1.2628000e+04, 5.0000000e+00, 3.6612000e+04, ..., 0.0000000e+00,\n",
              "        0.0000000e+00, 0.0000000e+00],\n",
              "       [7.2785000e+04, 5.5000000e+02, 4.4300000e+02, ..., 0.0000000e+00,\n",
              "        0.0000000e+00, 0.0000000e+00],\n",
              "       ...,\n",
              "       [6.0406000e+04, 6.0000000e+00, 4.7185000e+04, ..., 0.0000000e+00,\n",
              "        7.1095211e+07, 7.1095211e+07],\n",
              "       [4.5346000e+04, 6.0000000e+00, 4.7728000e+04, ..., 0.0000000e+00,\n",
              "        0.0000000e+00, 0.0000000e+00],\n",
              "       [8.6611000e+04, 7.0000000e+00, 5.9766000e+04, ..., 0.0000000e+00,\n",
              "        9.0043377e+07, 9.0043377e+07]])"
            ]
          },
          "metadata": {},
          "execution_count": 25
        }
      ],
      "source": [
        "x_train"
      ]
    },
    {
      "cell_type": "code",
      "execution_count": 26,
      "metadata": {
        "id": "tP_-JADTXvMP",
        "colab": {
          "base_uri": "https://localhost:8080/"
        },
        "outputId": "51b26630-f65e-4389-f7c4-38fc68edff5c"
      },
      "outputs": [
        {
          "output_type": "execute_result",
          "data": {
            "text/plain": [
              "array(['Keylogger', 'Keylogger', 'Keylogger', ..., 'Keylogger', 'Benign',\n",
              "       'Benign'], dtype=object)"
            ]
          },
          "metadata": {},
          "execution_count": 26
        }
      ],
      "source": [
        "y_train"
      ]
    },
    {
      "cell_type": "code",
      "execution_count": 27,
      "metadata": {
        "id": "1QBZrC8sXwhI",
        "colab": {
          "base_uri": "https://localhost:8080/"
        },
        "outputId": "a9275324-1b42-4553-d97a-e49c559c87e5"
      },
      "outputs": [
        {
          "output_type": "execute_result",
          "data": {
            "text/plain": [
              "array([[3.1574e+04, 6.0000e+00, 7.0490e+03, ..., 0.0000e+00, 0.0000e+00,\n",
              "        0.0000e+00],\n",
              "       [6.5259e+04, 6.0000e+00, 4.5918e+04, ..., 0.0000e+00, 0.0000e+00,\n",
              "        0.0000e+00],\n",
              "       [6.8285e+04, 5.0000e+00, 4.0294e+04, ..., 0.0000e+00, 0.0000e+00,\n",
              "        0.0000e+00],\n",
              "       ...,\n",
              "       [5.2096e+04, 7.0000e+00, 4.2906e+04, ..., 0.0000e+00, 0.0000e+00,\n",
              "        0.0000e+00],\n",
              "       [7.6618e+04, 6.0000e+00, 3.8760e+04, ..., 0.0000e+00, 0.0000e+00,\n",
              "        0.0000e+00],\n",
              "       [7.5595e+04, 6.0000e+00, 4.3798e+04, ..., 0.0000e+00, 0.0000e+00,\n",
              "        0.0000e+00]])"
            ]
          },
          "metadata": {},
          "execution_count": 27
        }
      ],
      "source": [
        "x_test"
      ]
    },
    {
      "cell_type": "code",
      "source": [
        "y_test"
      ],
      "metadata": {
        "colab": {
          "base_uri": "https://localhost:8080/"
        },
        "id": "Hrem8g67Iavb",
        "outputId": "1b85dd3f-c64c-4608-bb47-ac5f91b5b6d5"
      },
      "execution_count": 28,
      "outputs": [
        {
          "output_type": "execute_result",
          "data": {
            "text/plain": [
              "array(['Benign', 'Keylogger', 'Benign', ..., 'Keylogger', 'Keylogger',\n",
              "       'Keylogger'], dtype=object)"
            ]
          },
          "metadata": {},
          "execution_count": 28
        }
      ]
    },
    {
      "cell_type": "markdown",
      "source": [
        "##**Standardization**"
      ],
      "metadata": {
        "id": "44S9tsycx_Y8"
      }
    },
    {
      "cell_type": "code",
      "execution_count": 29,
      "metadata": {
        "id": "a_OHk-C4Xyz7"
      },
      "outputs": [],
      "source": [
        "scaler = StandardScaler()\n",
        "scaler.fit(x_train)\n",
        "x_train= scaler.fit_transform(x_train)\n",
        "x_test = scaler.fit_transform(x_test)"
      ]
    },
    {
      "cell_type": "markdown",
      "source": [
        "##**Model Creation, Predication and Evalutaion**"
      ],
      "metadata": {
        "id": "5_iNAIOqrOIB"
      }
    },
    {
      "cell_type": "markdown",
      "source": [
        "###**K-Nearest Neighbors**"
      ],
      "metadata": {
        "id": "PkJPK7LlHrKC"
      }
    },
    {
      "cell_type": "code",
      "source": [
        "from sklearn.neighbors import KNeighborsClassifier\n",
        "knn = KNeighborsClassifier(n_neighbors=5)\n",
        "\n"
      ],
      "metadata": {
        "id": "kU3haZwgWyY9"
      },
      "execution_count": 30,
      "outputs": []
    },
    {
      "cell_type": "code",
      "source": [
        "knn.fit(x_train,y_train)"
      ],
      "metadata": {
        "colab": {
          "base_uri": "https://localhost:8080/",
          "height": 74
        },
        "id": "nCOGeQxOyMad",
        "outputId": "156f5805-8199-4d7a-f963-236a7108b6cf"
      },
      "execution_count": 31,
      "outputs": [
        {
          "output_type": "execute_result",
          "data": {
            "text/plain": [
              "KNeighborsClassifier()"
            ],
            "text/html": [
              "<style>#sk-container-id-1 {color: black;background-color: white;}#sk-container-id-1 pre{padding: 0;}#sk-container-id-1 div.sk-toggleable {background-color: white;}#sk-container-id-1 label.sk-toggleable__label {cursor: pointer;display: block;width: 100%;margin-bottom: 0;padding: 0.3em;box-sizing: border-box;text-align: center;}#sk-container-id-1 label.sk-toggleable__label-arrow:before {content: \"▸\";float: left;margin-right: 0.25em;color: #696969;}#sk-container-id-1 label.sk-toggleable__label-arrow:hover:before {color: black;}#sk-container-id-1 div.sk-estimator:hover label.sk-toggleable__label-arrow:before {color: black;}#sk-container-id-1 div.sk-toggleable__content {max-height: 0;max-width: 0;overflow: hidden;text-align: left;background-color: #f0f8ff;}#sk-container-id-1 div.sk-toggleable__content pre {margin: 0.2em;color: black;border-radius: 0.25em;background-color: #f0f8ff;}#sk-container-id-1 input.sk-toggleable__control:checked~div.sk-toggleable__content {max-height: 200px;max-width: 100%;overflow: auto;}#sk-container-id-1 input.sk-toggleable__control:checked~label.sk-toggleable__label-arrow:before {content: \"▾\";}#sk-container-id-1 div.sk-estimator input.sk-toggleable__control:checked~label.sk-toggleable__label {background-color: #d4ebff;}#sk-container-id-1 div.sk-label input.sk-toggleable__control:checked~label.sk-toggleable__label {background-color: #d4ebff;}#sk-container-id-1 input.sk-hidden--visually {border: 0;clip: rect(1px 1px 1px 1px);clip: rect(1px, 1px, 1px, 1px);height: 1px;margin: -1px;overflow: hidden;padding: 0;position: absolute;width: 1px;}#sk-container-id-1 div.sk-estimator {font-family: monospace;background-color: #f0f8ff;border: 1px dotted black;border-radius: 0.25em;box-sizing: border-box;margin-bottom: 0.5em;}#sk-container-id-1 div.sk-estimator:hover {background-color: #d4ebff;}#sk-container-id-1 div.sk-parallel-item::after {content: \"\";width: 100%;border-bottom: 1px solid gray;flex-grow: 1;}#sk-container-id-1 div.sk-label:hover label.sk-toggleable__label {background-color: #d4ebff;}#sk-container-id-1 div.sk-serial::before {content: \"\";position: absolute;border-left: 1px solid gray;box-sizing: border-box;top: 0;bottom: 0;left: 50%;z-index: 0;}#sk-container-id-1 div.sk-serial {display: flex;flex-direction: column;align-items: center;background-color: white;padding-right: 0.2em;padding-left: 0.2em;position: relative;}#sk-container-id-1 div.sk-item {position: relative;z-index: 1;}#sk-container-id-1 div.sk-parallel {display: flex;align-items: stretch;justify-content: center;background-color: white;position: relative;}#sk-container-id-1 div.sk-item::before, #sk-container-id-1 div.sk-parallel-item::before {content: \"\";position: absolute;border-left: 1px solid gray;box-sizing: border-box;top: 0;bottom: 0;left: 50%;z-index: -1;}#sk-container-id-1 div.sk-parallel-item {display: flex;flex-direction: column;z-index: 1;position: relative;background-color: white;}#sk-container-id-1 div.sk-parallel-item:first-child::after {align-self: flex-end;width: 50%;}#sk-container-id-1 div.sk-parallel-item:last-child::after {align-self: flex-start;width: 50%;}#sk-container-id-1 div.sk-parallel-item:only-child::after {width: 0;}#sk-container-id-1 div.sk-dashed-wrapped {border: 1px dashed gray;margin: 0 0.4em 0.5em 0.4em;box-sizing: border-box;padding-bottom: 0.4em;background-color: white;}#sk-container-id-1 div.sk-label label {font-family: monospace;font-weight: bold;display: inline-block;line-height: 1.2em;}#sk-container-id-1 div.sk-label-container {text-align: center;}#sk-container-id-1 div.sk-container {/* jupyter's `normalize.less` sets `[hidden] { display: none; }` but bootstrap.min.css set `[hidden] { display: none !important; }` so we also need the `!important` here to be able to override the default hidden behavior on the sphinx rendered scikit-learn.org. See: https://github.com/scikit-learn/scikit-learn/issues/21755 */display: inline-block !important;position: relative;}#sk-container-id-1 div.sk-text-repr-fallback {display: none;}</style><div id=\"sk-container-id-1\" class=\"sk-top-container\"><div class=\"sk-text-repr-fallback\"><pre>KNeighborsClassifier()</pre><b>In a Jupyter environment, please rerun this cell to show the HTML representation or trust the notebook. <br />On GitHub, the HTML representation is unable to render, please try loading this page with nbviewer.org.</b></div><div class=\"sk-container\" hidden><div class=\"sk-item\"><div class=\"sk-estimator sk-toggleable\"><input class=\"sk-toggleable__control sk-hidden--visually\" id=\"sk-estimator-id-1\" type=\"checkbox\" checked><label for=\"sk-estimator-id-1\" class=\"sk-toggleable__label sk-toggleable__label-arrow\">KNeighborsClassifier</label><div class=\"sk-toggleable__content\"><pre>KNeighborsClassifier()</pre></div></div></div></div></div>"
            ]
          },
          "metadata": {},
          "execution_count": 31
        }
      ]
    },
    {
      "cell_type": "code",
      "source": [
        "y_pred_knn = knn.predict(x_test)\n",
        "y_pred_knn"
      ],
      "metadata": {
        "id": "jRAkKj1EXTw4"
      },
      "execution_count": null,
      "outputs": []
    },
    {
      "cell_type": "code",
      "source": [
        "acc_score_knn = accuracy_score(y_test,y_pred_knn)*100\n",
        "acc_score_knn"
      ],
      "metadata": {
        "id": "6WSjVB3aXZfG"
      },
      "execution_count": null,
      "outputs": []
    },
    {
      "cell_type": "code",
      "source": [
        "cm_knn = confusion_matrix(y_test,y_pred_knn)\n",
        "cm_knn"
      ],
      "metadata": {
        "id": "4kXQiwydXjAI"
      },
      "execution_count": null,
      "outputs": []
    },
    {
      "cell_type": "code",
      "source": [
        "labels_knn = ['Benign', 'Keylogger']\n",
        "cmd_knn = ConfusionMatrixDisplay(cm_knn,display_labels=labels_knn)\n",
        "cmd_knn.plot()"
      ],
      "metadata": {
        "id": "K2HqiM1OI-N7"
      },
      "execution_count": null,
      "outputs": []
    },
    {
      "cell_type": "code",
      "source": [
        "report_knn =pd.DataFrame(classification_report(y_test,y_pred_knn,output_dict=True)).T\n",
        "report_knn"
      ],
      "metadata": {
        "id": "o80wTvOaoJcD"
      },
      "execution_count": null,
      "outputs": []
    },
    {
      "cell_type": "markdown",
      "source": [
        "###**Decision Tree**"
      ],
      "metadata": {
        "id": "8HV6KjTZH02x"
      }
    },
    {
      "cell_type": "code",
      "source": [
        "from sklearn.tree import DecisionTreeClassifier\n",
        "dt = DecisionTreeClassifier()\n"
      ],
      "metadata": {
        "id": "KiSTuF2Xtb2b"
      },
      "execution_count": null,
      "outputs": []
    },
    {
      "cell_type": "code",
      "source": [
        "dt.fit(x_train,y_train)"
      ],
      "metadata": {
        "id": "4TOjxyZHF8Hg"
      },
      "execution_count": null,
      "outputs": []
    },
    {
      "cell_type": "code",
      "source": [
        "y_pred_dt = dt.predict(x_test)\n",
        "y_pred_dt"
      ],
      "metadata": {
        "id": "-dS6Ju8NF_e_"
      },
      "execution_count": null,
      "outputs": []
    },
    {
      "cell_type": "code",
      "source": [
        "acc_score_dt = accuracy_score(y_test,y_pred_dt)*100\n",
        "acc_score_dt"
      ],
      "metadata": {
        "id": "PKkcnpr9GEAj"
      },
      "execution_count": null,
      "outputs": []
    },
    {
      "cell_type": "code",
      "source": [
        "cm_dt = confusion_matrix(y_test,y_pred_dt)\n",
        "print(\"Confusion matrix: \\n-------------\\n\",cm_dt)"
      ],
      "metadata": {
        "id": "OTd2OxihGZXF"
      },
      "execution_count": null,
      "outputs": []
    },
    {
      "cell_type": "code",
      "source": [
        "labels_dt =['Benign', 'Keylogger']\n",
        "cmd_dt = ConfusionMatrixDisplay(cm_dt,display_labels=labels_dt)\n",
        "cmd_dt.plot()"
      ],
      "metadata": {
        "id": "9SqP0F6OHG7i"
      },
      "execution_count": null,
      "outputs": []
    },
    {
      "cell_type": "code",
      "source": [
        "report_dt = pd.DataFrame(classification_report(y_test,y_pred_dt,output_dict=True)).T\n",
        "report_dt"
      ],
      "metadata": {
        "id": "5H335MTvHK8u"
      },
      "execution_count": null,
      "outputs": []
    },
    {
      "cell_type": "markdown",
      "source": [
        "###**Naive Bayes**"
      ],
      "metadata": {
        "id": "seiXtw69txPQ"
      }
    },
    {
      "cell_type": "code",
      "source": [
        "from sklearn.naive_bayes import GaussianNB\n",
        "nb = GaussianNB()"
      ],
      "metadata": {
        "id": "tMCF_lAkLkre"
      },
      "execution_count": null,
      "outputs": []
    },
    {
      "cell_type": "code",
      "source": [
        "nb.fit(x_train,y_train)"
      ],
      "metadata": {
        "id": "ZluLF7rTVDo8"
      },
      "execution_count": null,
      "outputs": []
    },
    {
      "cell_type": "code",
      "source": [
        "y_pred_nb = nb.predict(x_test)\n",
        "y_pred_nb"
      ],
      "metadata": {
        "id": "EkP0kywaVG_3"
      },
      "execution_count": null,
      "outputs": []
    },
    {
      "cell_type": "code",
      "source": [
        "acc_score_nb = (accuracy_score(y_test, y_pred_nb) * 100)\n",
        "\n",
        "print(acc_score_nb)"
      ],
      "metadata": {
        "id": "LOKp3w2hVVM3"
      },
      "execution_count": null,
      "outputs": []
    },
    {
      "cell_type": "code",
      "source": [
        "cm_nb = confusion_matrix(y_test,y_pred_nb)\n",
        "cm_nb"
      ],
      "metadata": {
        "id": "AENRGYUCVc09"
      },
      "execution_count": null,
      "outputs": []
    },
    {
      "cell_type": "code",
      "source": [
        "labels_nb =['Benign', 'Keylogger']\n",
        "cmd_nb = ConfusionMatrixDisplay(cm_nb,display_labels=labels_nb)\n",
        "cmd_nb.plot()"
      ],
      "metadata": {
        "id": "BQ6JHvTUVmh9"
      },
      "execution_count": null,
      "outputs": []
    },
    {
      "cell_type": "code",
      "source": [
        "report_nb = pd.DataFrame(classification_report(y_test,y_pred_nb,output_dict=True)).T\n",
        "report_nb"
      ],
      "metadata": {
        "id": "faOdyULjV3GU"
      },
      "execution_count": null,
      "outputs": []
    },
    {
      "cell_type": "markdown",
      "source": [
        "###**Random Forest**"
      ],
      "metadata": {
        "id": "ENcJppjfH6AV"
      }
    },
    {
      "cell_type": "code",
      "source": [
        "from sklearn.ensemble import RandomForestClassifier\n",
        "rf = RandomForestClassifier(n_estimators=100,random_state=42)"
      ],
      "metadata": {
        "id": "ifk0MKQoHhDa"
      },
      "execution_count": null,
      "outputs": []
    },
    {
      "cell_type": "code",
      "source": [
        "rf.fit(x_train,y_train)"
      ],
      "metadata": {
        "id": "zZc1s07gIS_9"
      },
      "execution_count": null,
      "outputs": []
    },
    {
      "cell_type": "code",
      "source": [
        "y_pred_rf = rf.predict(x_test)\n",
        "y_pred_rf"
      ],
      "metadata": {
        "id": "FdWKeUfRIV5R"
      },
      "execution_count": null,
      "outputs": []
    },
    {
      "cell_type": "code",
      "source": [
        "acc_score_rf = (accuracy_score(y_test,y_pred_rf)*100)\n",
        "print(acc_score_rf)"
      ],
      "metadata": {
        "id": "cjGOY3IRIZhS"
      },
      "execution_count": null,
      "outputs": []
    },
    {
      "cell_type": "code",
      "source": [
        "cm_rf = confusion_matrix(y_test,y_pred_rf)\n",
        "print(\"Confusion matrix: \\n-----------------\\n\",cm_rf)"
      ],
      "metadata": {
        "id": "wDD6V0-AJnKy"
      },
      "execution_count": null,
      "outputs": []
    },
    {
      "cell_type": "code",
      "source": [
        "labels_rf =['Benign', 'Keylogger']\n",
        "cmd_rf = ConfusionMatrixDisplay(cm_rf,display_labels=labels_rf)\n",
        "cmd_rf.plot()"
      ],
      "metadata": {
        "id": "txJa6CZ2KB5q"
      },
      "execution_count": null,
      "outputs": []
    },
    {
      "cell_type": "code",
      "source": [
        "report_rf = pd.DataFrame(classification_report(y_test,y_pred_rf,output_dict=True)).T\n",
        "report_rf"
      ],
      "metadata": {
        "id": "_NJcGfslKUrc"
      },
      "execution_count": null,
      "outputs": []
    },
    {
      "cell_type": "markdown",
      "source": [
        "###**Extra Gradient Boost (XGBoost)**"
      ],
      "metadata": {
        "id": "DGf_0Gb7p3dm"
      }
    },
    {
      "cell_type": "code",
      "source": [
        "from xgboost import XGBClassifier\n",
        "xgbc = XGBClassifier(n_estimators=100,random_state=42)\n",
        "\n",
        "y_train_en= lb.fit_transform(y_train)\n",
        "y_test_en = lb.fit_transform(y_test)"
      ],
      "metadata": {
        "id": "OEea4NL0gf3U"
      },
      "execution_count": null,
      "outputs": []
    },
    {
      "cell_type": "code",
      "source": [
        "xgbc.fit(x_train,y_train_en)"
      ],
      "metadata": {
        "id": "n1RKzwAwmB1H"
      },
      "execution_count": null,
      "outputs": []
    },
    {
      "cell_type": "code",
      "source": [
        "y_pred_xgbc = xgbc.predict(x_test)\n",
        "y_pred_xgbc"
      ],
      "metadata": {
        "id": "PLaL6vIzmtdU"
      },
      "execution_count": null,
      "outputs": []
    },
    {
      "cell_type": "code",
      "source": [
        "acc_score_xgbc = accuracy_score(y_test_en,y_pred_xgbc)*100\n",
        "acc_score_xgbc"
      ],
      "metadata": {
        "id": "G8OC-gv_m-8R"
      },
      "execution_count": null,
      "outputs": []
    },
    {
      "cell_type": "code",
      "source": [
        "cm_xgbc = confusion_matrix(y_test_en,y_pred_xgbc)\n",
        "cm_xgbc"
      ],
      "metadata": {
        "id": "fV9YA9iZrTeN"
      },
      "execution_count": null,
      "outputs": []
    },
    {
      "cell_type": "code",
      "source": [
        "labels = [\"0\\n Benign\",\"1\\nKeylogger\",]\n",
        "cmd_xgbc = ConfusionMatrixDisplay(cm_xgbc,display_labels=labels)\n",
        "cmd_xgbc.plot()"
      ],
      "metadata": {
        "id": "qCgjzOfgrgKM"
      },
      "execution_count": null,
      "outputs": []
    },
    {
      "cell_type": "code",
      "source": [
        "report_xgbc = pd.DataFrame(classification_report(y_test_en,y_pred_xgbc,output_dict=True)).T\n",
        "report_xgbc"
      ],
      "metadata": {
        "id": "JmkNXG7It7sO"
      },
      "execution_count": null,
      "outputs": []
    },
    {
      "cell_type": "markdown",
      "source": [
        "###**AdaBoost**"
      ],
      "metadata": {
        "id": "-AWAM0cKqOs8"
      }
    },
    {
      "cell_type": "code",
      "source": [
        "from sklearn.ensemble import AdaBoostClassifier\n",
        "abc = AdaBoostClassifier()"
      ],
      "metadata": {
        "id": "5SsxTw7Tn1Y7"
      },
      "execution_count": null,
      "outputs": []
    },
    {
      "cell_type": "code",
      "source": [
        "abc.fit(x_train,y_train)"
      ],
      "metadata": {
        "id": "8A1VsGojoFL8"
      },
      "execution_count": null,
      "outputs": []
    },
    {
      "cell_type": "code",
      "source": [
        "y_pred_abc = abc.predict(x_test)\n",
        "y_pred_abc"
      ],
      "metadata": {
        "id": "dseAtqi-o63w"
      },
      "execution_count": null,
      "outputs": []
    },
    {
      "cell_type": "code",
      "source": [
        "acc_score_abc = accuracy_score(y_test,y_pred_abc)*100\n",
        "acc_score_abc"
      ],
      "metadata": {
        "id": "vKc1LgqUpBQ6"
      },
      "execution_count": null,
      "outputs": []
    },
    {
      "cell_type": "code",
      "source": [
        "cm_abc = confusion_matrix(y_test,y_pred_abc)\n",
        "cm_abc"
      ],
      "metadata": {
        "id": "SSf4l-ngpOwa"
      },
      "execution_count": null,
      "outputs": []
    },
    {
      "cell_type": "code",
      "source": [
        "labels = [\"Benign\",\"Keylogger\",]\n",
        "cmd_abc = ConfusionMatrixDisplay(cm_abc,display_labels=labels)\n",
        "cmd_abc.plot()"
      ],
      "metadata": {
        "id": "DVPUhqZVs-yl"
      },
      "execution_count": null,
      "outputs": []
    },
    {
      "cell_type": "code",
      "source": [
        "report_abc = pd.DataFrame(classification_report(y_test,y_pred_abc,output_dict=True)).T\n",
        "report_abc"
      ],
      "metadata": {
        "id": "a8HIKBzCwyD1"
      },
      "execution_count": null,
      "outputs": []
    },
    {
      "cell_type": "markdown",
      "source": [
        "###**Visualization of Model Accuracy**"
      ],
      "metadata": {
        "id": "jgMwMOOTul1w"
      }
    },
    {
      "cell_type": "code",
      "source": [
        "plt.figure(figsize=(10,5))\n",
        "plt.title(\"Accuracy Score of Trained Models\")\n",
        "models = ['KNN','Naive_Bayes','Decision_Tree','Random_Forest','XGBoost','AdaBoost']\n",
        "score= [acc_score_knn,acc_score_nb,acc_score_dt,acc_score_rf,acc_score_xgbc,acc_score_abc]\n",
        "sns.barplot(x=models,y=score,palette='rocket',legend=False,hue=models)\n",
        "for i in range(len(models)):\n",
        "    plt.annotate(str(round(score[i], 2)), xy=(i, score[i]), ha='center', va='bottom')\n",
        "plt.show()"
      ],
      "metadata": {
        "id": "OndscXBNWOnf"
      },
      "execution_count": null,
      "outputs": []
    },
    {
      "cell_type": "code",
      "source": [
        "joblib.dump(dt,\"dt_model.sav\")\n",
        "joblib.dump(rf,\"rf_model.sav\")\n",
        "joblib.dump(xgbc,\"xgb_model.sav\")\n",
        "joblib.dump(abc,\"Adb_mode.sav\")\n"
      ],
      "metadata": {
        "id": "eTfAKPIHUSGd"
      },
      "execution_count": null,
      "outputs": []
    },
    {
      "cell_type": "markdown",
      "source": [
        "**K-nearest neighbors (KNN)** and **Extreme Gradient Boosting (XGBoost)** both obtained an impressive accuracy score of **99%**. On the other hand, **Decision Tree**, **Random Forest**, and **AdaBoost** all reached a perfect accuracy score of 100%."
      ],
      "metadata": {
        "id": "rEFcLXgd64od"
      }
    }
  ],
  "metadata": {
    "colab": {
      "provenance": [],
      "gpuType": "T4",
      "mount_file_id": "12gsr13iCeNgz15xnrbWUA1PdoAKBy1sC",
      "authorship_tag": "ABX9TyNRt9DZ+AotI722Xa5z6g66",
      "include_colab_link": true
    },
    "kernelspec": {
      "display_name": "Python 3",
      "name": "python3"
    },
    "language_info": {
      "name": "python"
    }
  },
  "nbformat": 4,
  "nbformat_minor": 0
}